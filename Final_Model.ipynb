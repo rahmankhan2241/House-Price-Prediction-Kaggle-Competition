{
 "cells": [
  {
   "cell_type": "markdown",
   "metadata": {},
   "source": [
    "<h1 style = 'color: Orange; text-align:center; font-weight: bold'>Feature Extraction and Selection </h1>"
   ]
  },
  {
   "cell_type": "markdown",
   "metadata": {},
   "source": [
    "<p style = 'text-align:center'>In this final file we will try to reduce the dimesions or create new meaningful features for our data</p>"
   ]
  },
  {
   "cell_type": "code",
   "execution_count": 2,
   "metadata": {},
   "outputs": [
    {
     "name": "stdout",
     "output_type": "stream",
     "text": [
      "(2908, 187)\n",
      "(2908, 80)\n"
     ]
    }
   ],
   "source": [
    "## Loading df and all_df dataframes\n",
    "import pandas as pd\n",
    "import pickle\n",
    "import Functions as f \n",
    "old_df = pd.read_pickle('PickleCleaning.pkl')   ## for making decisions\n",
    "df = pd.read_pickle('model_with_all_features.pkl')  ## Original dataset\n",
    "print(df.shape)\n",
    "print(old_df.shape)"
   ]
  },
  {
   "cell_type": "code",
   "execution_count": 3,
   "metadata": {},
   "outputs": [
    {
     "data": {
      "text/html": [
       "<div>\n",
       "<style scoped>\n",
       "    .dataframe tbody tr th:only-of-type {\n",
       "        vertical-align: middle;\n",
       "    }\n",
       "\n",
       "    .dataframe tbody tr th {\n",
       "        vertical-align: top;\n",
       "    }\n",
       "\n",
       "    .dataframe thead th {\n",
       "        text-align: right;\n",
       "    }\n",
       "</style>\n",
       "<table border=\"1\" class=\"dataframe\">\n",
       "  <thead>\n",
       "    <tr style=\"text-align: right;\">\n",
       "      <th></th>\n",
       "      <th>LotFrontage</th>\n",
       "      <th>LotArea</th>\n",
       "      <th>Alley</th>\n",
       "      <th>OverallQual</th>\n",
       "      <th>OverallCond</th>\n",
       "      <th>MasVnrArea</th>\n",
       "      <th>ExterQual</th>\n",
       "      <th>ExterCond</th>\n",
       "      <th>BsmtQual</th>\n",
       "      <th>BsmtCond</th>\n",
       "      <th>...</th>\n",
       "      <th>__Heating_Wall</th>\n",
       "      <th>__GarageType_Attchd</th>\n",
       "      <th>__GarageType_Basment</th>\n",
       "      <th>__GarageType_BuiltIn</th>\n",
       "      <th>__GarageType_Detchd</th>\n",
       "      <th>__GarageType_No Garage</th>\n",
       "      <th>__GarageType_Other</th>\n",
       "      <th>__MiscFeature_None</th>\n",
       "      <th>__MiscFeature_Other</th>\n",
       "      <th>__MiscFeature_Shed</th>\n",
       "    </tr>\n",
       "  </thead>\n",
       "  <tbody>\n",
       "    <tr>\n",
       "      <th>0</th>\n",
       "      <td>-0.148736</td>\n",
       "      <td>-0.134698</td>\n",
       "      <td>0</td>\n",
       "      <td>7</td>\n",
       "      <td>5</td>\n",
       "      <td>1.220192</td>\n",
       "      <td>4</td>\n",
       "      <td>3</td>\n",
       "      <td>4</td>\n",
       "      <td>3</td>\n",
       "      <td>...</td>\n",
       "      <td>0.0</td>\n",
       "      <td>1.0</td>\n",
       "      <td>0.0</td>\n",
       "      <td>0.0</td>\n",
       "      <td>0.0</td>\n",
       "      <td>0.0</td>\n",
       "      <td>0.0</td>\n",
       "      <td>1.0</td>\n",
       "      <td>0.0</td>\n",
       "      <td>0.0</td>\n",
       "    </tr>\n",
       "    <tr>\n",
       "      <th>1</th>\n",
       "      <td>0.536688</td>\n",
       "      <td>0.118868</td>\n",
       "      <td>0</td>\n",
       "      <td>6</td>\n",
       "      <td>8</td>\n",
       "      <td>-0.826737</td>\n",
       "      <td>3</td>\n",
       "      <td>3</td>\n",
       "      <td>4</td>\n",
       "      <td>3</td>\n",
       "      <td>...</td>\n",
       "      <td>0.0</td>\n",
       "      <td>1.0</td>\n",
       "      <td>0.0</td>\n",
       "      <td>0.0</td>\n",
       "      <td>0.0</td>\n",
       "      <td>0.0</td>\n",
       "      <td>0.0</td>\n",
       "      <td>1.0</td>\n",
       "      <td>0.0</td>\n",
       "      <td>0.0</td>\n",
       "    </tr>\n",
       "    <tr>\n",
       "      <th>2</th>\n",
       "      <td>-0.004846</td>\n",
       "      <td>0.440137</td>\n",
       "      <td>0</td>\n",
       "      <td>7</td>\n",
       "      <td>5</td>\n",
       "      <td>1.182237</td>\n",
       "      <td>4</td>\n",
       "      <td>3</td>\n",
       "      <td>4</td>\n",
       "      <td>3</td>\n",
       "      <td>...</td>\n",
       "      <td>0.0</td>\n",
       "      <td>1.0</td>\n",
       "      <td>0.0</td>\n",
       "      <td>0.0</td>\n",
       "      <td>0.0</td>\n",
       "      <td>0.0</td>\n",
       "      <td>0.0</td>\n",
       "      <td>1.0</td>\n",
       "      <td>0.0</td>\n",
       "      <td>0.0</td>\n",
       "    </tr>\n",
       "    <tr>\n",
       "      <th>3</th>\n",
       "      <td>-0.397350</td>\n",
       "      <td>0.108406</td>\n",
       "      <td>0</td>\n",
       "      <td>7</td>\n",
       "      <td>5</td>\n",
       "      <td>-0.826737</td>\n",
       "      <td>3</td>\n",
       "      <td>3</td>\n",
       "      <td>3</td>\n",
       "      <td>4</td>\n",
       "      <td>...</td>\n",
       "      <td>0.0</td>\n",
       "      <td>0.0</td>\n",
       "      <td>0.0</td>\n",
       "      <td>0.0</td>\n",
       "      <td>1.0</td>\n",
       "      <td>0.0</td>\n",
       "      <td>0.0</td>\n",
       "      <td>1.0</td>\n",
       "      <td>0.0</td>\n",
       "      <td>0.0</td>\n",
       "    </tr>\n",
       "    <tr>\n",
       "      <th>4</th>\n",
       "      <td>0.706617</td>\n",
       "      <td>0.933249</td>\n",
       "      <td>0</td>\n",
       "      <td>8</td>\n",
       "      <td>5</td>\n",
       "      <td>1.326034</td>\n",
       "      <td>4</td>\n",
       "      <td>3</td>\n",
       "      <td>4</td>\n",
       "      <td>3</td>\n",
       "      <td>...</td>\n",
       "      <td>0.0</td>\n",
       "      <td>1.0</td>\n",
       "      <td>0.0</td>\n",
       "      <td>0.0</td>\n",
       "      <td>0.0</td>\n",
       "      <td>0.0</td>\n",
       "      <td>0.0</td>\n",
       "      <td>1.0</td>\n",
       "      <td>0.0</td>\n",
       "      <td>0.0</td>\n",
       "    </tr>\n",
       "    <tr>\n",
       "      <th>...</th>\n",
       "      <td>...</td>\n",
       "      <td>...</td>\n",
       "      <td>...</td>\n",
       "      <td>...</td>\n",
       "      <td>...</td>\n",
       "      <td>...</td>\n",
       "      <td>...</td>\n",
       "      <td>...</td>\n",
       "      <td>...</td>\n",
       "      <td>...</td>\n",
       "      <td>...</td>\n",
       "      <td>...</td>\n",
       "      <td>...</td>\n",
       "      <td>...</td>\n",
       "      <td>...</td>\n",
       "      <td>...</td>\n",
       "      <td>...</td>\n",
       "      <td>...</td>\n",
       "      <td>...</td>\n",
       "      <td>...</td>\n",
       "      <td>...</td>\n",
       "    </tr>\n",
       "    <tr>\n",
       "      <th>2903</th>\n",
       "      <td>0.748363</td>\n",
       "      <td>-0.262519</td>\n",
       "      <td>0</td>\n",
       "      <td>4</td>\n",
       "      <td>7</td>\n",
       "      <td>1.117205</td>\n",
       "      <td>3</td>\n",
       "      <td>3</td>\n",
       "      <td>4</td>\n",
       "      <td>3</td>\n",
       "      <td>...</td>\n",
       "      <td>0.0</td>\n",
       "      <td>0.0</td>\n",
       "      <td>0.0</td>\n",
       "      <td>0.0</td>\n",
       "      <td>0.0</td>\n",
       "      <td>1.0</td>\n",
       "      <td>0.0</td>\n",
       "      <td>1.0</td>\n",
       "      <td>0.0</td>\n",
       "      <td>0.0</td>\n",
       "    </tr>\n",
       "    <tr>\n",
       "      <th>2904</th>\n",
       "      <td>-0.100354</td>\n",
       "      <td>0.766917</td>\n",
       "      <td>0</td>\n",
       "      <td>4</td>\n",
       "      <td>5</td>\n",
       "      <td>-0.826737</td>\n",
       "      <td>3</td>\n",
       "      <td>3</td>\n",
       "      <td>4</td>\n",
       "      <td>3</td>\n",
       "      <td>...</td>\n",
       "      <td>0.0</td>\n",
       "      <td>0.0</td>\n",
       "      <td>0.0</td>\n",
       "      <td>0.0</td>\n",
       "      <td>0.0</td>\n",
       "      <td>0.0</td>\n",
       "      <td>1.0</td>\n",
       "      <td>1.0</td>\n",
       "      <td>0.0</td>\n",
       "      <td>0.0</td>\n",
       "    </tr>\n",
       "    <tr>\n",
       "      <th>2905</th>\n",
       "      <td>-0.004846</td>\n",
       "      <td>-0.000672</td>\n",
       "      <td>0</td>\n",
       "      <td>5</td>\n",
       "      <td>7</td>\n",
       "      <td>-0.826737</td>\n",
       "      <td>3</td>\n",
       "      <td>3</td>\n",
       "      <td>3</td>\n",
       "      <td>4</td>\n",
       "      <td>...</td>\n",
       "      <td>0.0</td>\n",
       "      <td>0.0</td>\n",
       "      <td>0.0</td>\n",
       "      <td>0.0</td>\n",
       "      <td>1.0</td>\n",
       "      <td>0.0</td>\n",
       "      <td>0.0</td>\n",
       "      <td>0.0</td>\n",
       "      <td>0.0</td>\n",
       "      <td>1.0</td>\n",
       "    </tr>\n",
       "    <tr>\n",
       "      <th>2906</th>\n",
       "      <td>0.317195</td>\n",
       "      <td>0.143167</td>\n",
       "      <td>0</td>\n",
       "      <td>5</td>\n",
       "      <td>5</td>\n",
       "      <td>-0.826737</td>\n",
       "      <td>3</td>\n",
       "      <td>3</td>\n",
       "      <td>3</td>\n",
       "      <td>3</td>\n",
       "      <td>...</td>\n",
       "      <td>0.0</td>\n",
       "      <td>0.0</td>\n",
       "      <td>0.0</td>\n",
       "      <td>0.0</td>\n",
       "      <td>0.0</td>\n",
       "      <td>1.0</td>\n",
       "      <td>0.0</td>\n",
       "      <td>1.0</td>\n",
       "      <td>0.0</td>\n",
       "      <td>0.0</td>\n",
       "    </tr>\n",
       "    <tr>\n",
       "      <th>2907</th>\n",
       "      <td>0.536688</td>\n",
       "      <td>0.188178</td>\n",
       "      <td>0</td>\n",
       "      <td>7</td>\n",
       "      <td>5</td>\n",
       "      <td>-0.826737</td>\n",
       "      <td>3</td>\n",
       "      <td>3</td>\n",
       "      <td>3</td>\n",
       "      <td>3</td>\n",
       "      <td>...</td>\n",
       "      <td>0.0</td>\n",
       "      <td>1.0</td>\n",
       "      <td>0.0</td>\n",
       "      <td>0.0</td>\n",
       "      <td>0.0</td>\n",
       "      <td>0.0</td>\n",
       "      <td>0.0</td>\n",
       "      <td>1.0</td>\n",
       "      <td>0.0</td>\n",
       "      <td>0.0</td>\n",
       "    </tr>\n",
       "  </tbody>\n",
       "</table>\n",
       "<p>2908 rows × 187 columns</p>\n",
       "</div>"
      ],
      "text/plain": [
       "      LotFrontage   LotArea  Alley OverallQual OverallCond  MasVnrArea  \\\n",
       "0       -0.148736 -0.134698      0           7           5    1.220192   \n",
       "1        0.536688  0.118868      0           6           8   -0.826737   \n",
       "2       -0.004846  0.440137      0           7           5    1.182237   \n",
       "3       -0.397350  0.108406      0           7           5   -0.826737   \n",
       "4        0.706617  0.933249      0           8           5    1.326034   \n",
       "...           ...       ...    ...         ...         ...         ...   \n",
       "2903     0.748363 -0.262519      0           4           7    1.117205   \n",
       "2904    -0.100354  0.766917      0           4           5   -0.826737   \n",
       "2905    -0.004846 -0.000672      0           5           7   -0.826737   \n",
       "2906     0.317195  0.143167      0           5           5   -0.826737   \n",
       "2907     0.536688  0.188178      0           7           5   -0.826737   \n",
       "\n",
       "      ExterQual  ExterCond  BsmtQual  BsmtCond  ...  __Heating_Wall  \\\n",
       "0             4          3         4         3  ...             0.0   \n",
       "1             3          3         4         3  ...             0.0   \n",
       "2             4          3         4         3  ...             0.0   \n",
       "3             3          3         3         4  ...             0.0   \n",
       "4             4          3         4         3  ...             0.0   \n",
       "...         ...        ...       ...       ...  ...             ...   \n",
       "2903          3          3         4         3  ...             0.0   \n",
       "2904          3          3         4         3  ...             0.0   \n",
       "2905          3          3         3         4  ...             0.0   \n",
       "2906          3          3         3         3  ...             0.0   \n",
       "2907          3          3         3         3  ...             0.0   \n",
       "\n",
       "      __GarageType_Attchd  __GarageType_Basment  __GarageType_BuiltIn  \\\n",
       "0                     1.0                   0.0                   0.0   \n",
       "1                     1.0                   0.0                   0.0   \n",
       "2                     1.0                   0.0                   0.0   \n",
       "3                     0.0                   0.0                   0.0   \n",
       "4                     1.0                   0.0                   0.0   \n",
       "...                   ...                   ...                   ...   \n",
       "2903                  0.0                   0.0                   0.0   \n",
       "2904                  0.0                   0.0                   0.0   \n",
       "2905                  0.0                   0.0                   0.0   \n",
       "2906                  0.0                   0.0                   0.0   \n",
       "2907                  1.0                   0.0                   0.0   \n",
       "\n",
       "      __GarageType_Detchd  __GarageType_No Garage  __GarageType_Other  \\\n",
       "0                     0.0                     0.0                 0.0   \n",
       "1                     0.0                     0.0                 0.0   \n",
       "2                     0.0                     0.0                 0.0   \n",
       "3                     1.0                     0.0                 0.0   \n",
       "4                     0.0                     0.0                 0.0   \n",
       "...                   ...                     ...                 ...   \n",
       "2903                  0.0                     1.0                 0.0   \n",
       "2904                  0.0                     0.0                 1.0   \n",
       "2905                  1.0                     0.0                 0.0   \n",
       "2906                  0.0                     1.0                 0.0   \n",
       "2907                  0.0                     0.0                 0.0   \n",
       "\n",
       "      __MiscFeature_None  __MiscFeature_Other  __MiscFeature_Shed  \n",
       "0                    1.0                  0.0                 0.0  \n",
       "1                    1.0                  0.0                 0.0  \n",
       "2                    1.0                  0.0                 0.0  \n",
       "3                    1.0                  0.0                 0.0  \n",
       "4                    1.0                  0.0                 0.0  \n",
       "...                  ...                  ...                 ...  \n",
       "2903                 1.0                  0.0                 0.0  \n",
       "2904                 1.0                  0.0                 0.0  \n",
       "2905                 0.0                  0.0                 1.0  \n",
       "2906                 1.0                  0.0                 0.0  \n",
       "2907                 1.0                  0.0                 0.0  \n",
       "\n",
       "[2908 rows x 187 columns]"
      ]
     },
     "execution_count": 3,
     "metadata": {},
     "output_type": "execute_result"
    }
   ],
   "source": [
    "df"
   ]
  },
  {
   "cell_type": "code",
   "execution_count": 4,
   "metadata": {},
   "outputs": [
    {
     "data": {
      "text/plain": [
       "['GarageYrBlt',\n",
       " 'GarageFinish',\n",
       " 'GarageCars',\n",
       " 'GarageArea',\n",
       " 'GarageQual',\n",
       " 'GarageCond',\n",
       " '__GarageType_Attchd',\n",
       " '__GarageType_Basment',\n",
       " '__GarageType_BuiltIn',\n",
       " '__GarageType_Detchd',\n",
       " '__GarageType_No Garage',\n",
       " '__GarageType_Other']"
      ]
     },
     "execution_count": 4,
     "metadata": {},
     "output_type": "execute_result"
    }
   ],
   "source": [
    "[col for col in df.columns if \"Garage\" in col]"
   ]
  },
  {
   "cell_type": "markdown",
   "metadata": {},
   "source": [
    "With <code>old_df</code> i will analyze which columns should be delete or modify and in <code>df</code> will apply the changes"
   ]
  },
  {
   "cell_type": "markdown",
   "metadata": {},
   "source": [
    "first let's analyze Exterior Columns since that the only column i remeber that can be reduced"
   ]
  },
  {
   "cell_type": "code",
   "execution_count": 5,
   "metadata": {},
   "outputs": [
    {
     "data": {
      "text/html": [
       "<div>\n",
       "<style scoped>\n",
       "    .dataframe tbody tr th:only-of-type {\n",
       "        vertical-align: middle;\n",
       "    }\n",
       "\n",
       "    .dataframe tbody tr th {\n",
       "        vertical-align: top;\n",
       "    }\n",
       "\n",
       "    .dataframe thead th {\n",
       "        text-align: right;\n",
       "    }\n",
       "</style>\n",
       "<table border=\"1\" class=\"dataframe\">\n",
       "  <thead>\n",
       "    <tr style=\"text-align: right;\">\n",
       "      <th></th>\n",
       "      <th>Exterior1st</th>\n",
       "      <th>Exterior2nd</th>\n",
       "    </tr>\n",
       "  </thead>\n",
       "  <tbody>\n",
       "    <tr>\n",
       "      <th>0</th>\n",
       "      <td>VinylSd</td>\n",
       "      <td>VinylSd</td>\n",
       "    </tr>\n",
       "    <tr>\n",
       "      <th>1</th>\n",
       "      <td>MetalSd</td>\n",
       "      <td>MetalSd</td>\n",
       "    </tr>\n",
       "    <tr>\n",
       "      <th>2</th>\n",
       "      <td>VinylSd</td>\n",
       "      <td>VinylSd</td>\n",
       "    </tr>\n",
       "    <tr>\n",
       "      <th>3</th>\n",
       "      <td>Wd Sdng</td>\n",
       "      <td>Wd Shng</td>\n",
       "    </tr>\n",
       "    <tr>\n",
       "      <th>4</th>\n",
       "      <td>VinylSd</td>\n",
       "      <td>VinylSd</td>\n",
       "    </tr>\n",
       "    <tr>\n",
       "      <th>...</th>\n",
       "      <td>...</td>\n",
       "      <td>...</td>\n",
       "    </tr>\n",
       "    <tr>\n",
       "      <th>1454</th>\n",
       "      <td>CemntBd</td>\n",
       "      <td>CmentBd</td>\n",
       "    </tr>\n",
       "    <tr>\n",
       "      <th>1455</th>\n",
       "      <td>CemntBd</td>\n",
       "      <td>CmentBd</td>\n",
       "    </tr>\n",
       "    <tr>\n",
       "      <th>1456</th>\n",
       "      <td>VinylSd</td>\n",
       "      <td>VinylSd</td>\n",
       "    </tr>\n",
       "    <tr>\n",
       "      <th>1457</th>\n",
       "      <td>HdBoard</td>\n",
       "      <td>Wd Shng</td>\n",
       "    </tr>\n",
       "    <tr>\n",
       "      <th>1458</th>\n",
       "      <td>HdBoard</td>\n",
       "      <td>HdBoard</td>\n",
       "    </tr>\n",
       "  </tbody>\n",
       "</table>\n",
       "<p>2908 rows × 2 columns</p>\n",
       "</div>"
      ],
      "text/plain": [
       "     Exterior1st Exterior2nd\n",
       "0        VinylSd     VinylSd\n",
       "1        MetalSd     MetalSd\n",
       "2        VinylSd     VinylSd\n",
       "3        Wd Sdng     Wd Shng\n",
       "4        VinylSd     VinylSd\n",
       "...          ...         ...\n",
       "1454     CemntBd     CmentBd\n",
       "1455     CemntBd     CmentBd\n",
       "1456     VinylSd     VinylSd\n",
       "1457     HdBoard     Wd Shng\n",
       "1458     HdBoard     HdBoard\n",
       "\n",
       "[2908 rows x 2 columns]"
      ]
     },
     "execution_count": 5,
     "metadata": {},
     "output_type": "execute_result"
    }
   ],
   "source": [
    "old_df[['Exterior1st', 'Exterior2nd']]"
   ]
  },
  {
   "cell_type": "code",
   "execution_count": 6,
   "metadata": {},
   "outputs": [
    {
     "data": {
      "text/html": [
       "<div>\n",
       "<style scoped>\n",
       "    .dataframe tbody tr th:only-of-type {\n",
       "        vertical-align: middle;\n",
       "    }\n",
       "\n",
       "    .dataframe tbody tr th {\n",
       "        vertical-align: top;\n",
       "    }\n",
       "\n",
       "    .dataframe thead th {\n",
       "        text-align: right;\n",
       "    }\n",
       "</style>\n",
       "<table border=\"1\" class=\"dataframe\">\n",
       "  <thead>\n",
       "    <tr style=\"text-align: right;\">\n",
       "      <th></th>\n",
       "      <th>index</th>\n",
       "      <th>Exterior1st</th>\n",
       "    </tr>\n",
       "  </thead>\n",
       "  <tbody>\n",
       "    <tr>\n",
       "      <th>0</th>\n",
       "      <td>0</td>\n",
       "      <td>VinylSd</td>\n",
       "    </tr>\n",
       "    <tr>\n",
       "      <th>1</th>\n",
       "      <td>1</td>\n",
       "      <td>MetalSd</td>\n",
       "    </tr>\n",
       "    <tr>\n",
       "      <th>2</th>\n",
       "      <td>2</td>\n",
       "      <td>VinylSd</td>\n",
       "    </tr>\n",
       "    <tr>\n",
       "      <th>3</th>\n",
       "      <td>3</td>\n",
       "      <td>Wd Sdng</td>\n",
       "    </tr>\n",
       "    <tr>\n",
       "      <th>4</th>\n",
       "      <td>4</td>\n",
       "      <td>VinylSd</td>\n",
       "    </tr>\n",
       "    <tr>\n",
       "      <th>...</th>\n",
       "      <td>...</td>\n",
       "      <td>...</td>\n",
       "    </tr>\n",
       "    <tr>\n",
       "      <th>2903</th>\n",
       "      <td>1454</td>\n",
       "      <td>CemntBd</td>\n",
       "    </tr>\n",
       "    <tr>\n",
       "      <th>2904</th>\n",
       "      <td>1455</td>\n",
       "      <td>CemntBd</td>\n",
       "    </tr>\n",
       "    <tr>\n",
       "      <th>2905</th>\n",
       "      <td>1456</td>\n",
       "      <td>VinylSd</td>\n",
       "    </tr>\n",
       "    <tr>\n",
       "      <th>2906</th>\n",
       "      <td>1457</td>\n",
       "      <td>HdBoard</td>\n",
       "    </tr>\n",
       "    <tr>\n",
       "      <th>2907</th>\n",
       "      <td>1458</td>\n",
       "      <td>HdBoard</td>\n",
       "    </tr>\n",
       "  </tbody>\n",
       "</table>\n",
       "<p>2908 rows × 2 columns</p>\n",
       "</div>"
      ],
      "text/plain": [
       "      index Exterior1st\n",
       "0         0     VinylSd\n",
       "1         1     MetalSd\n",
       "2         2     VinylSd\n",
       "3         3     Wd Sdng\n",
       "4         4     VinylSd\n",
       "...     ...         ...\n",
       "2903   1454     CemntBd\n",
       "2904   1455     CemntBd\n",
       "2905   1456     VinylSd\n",
       "2906   1457     HdBoard\n",
       "2907   1458     HdBoard\n",
       "\n",
       "[2908 rows x 2 columns]"
      ]
     },
     "execution_count": 6,
     "metadata": {},
     "output_type": "execute_result"
    }
   ],
   "source": [
    "old_df['Exterior1st'].reset_index()"
   ]
  },
  {
   "cell_type": "markdown",
   "metadata": {},
   "source": [
    "In this column i found a pattern that can be see by below code"
   ]
  },
  {
   "cell_type": "code",
   "execution_count": 7,
   "metadata": {},
   "outputs": [],
   "source": [
    "old_df.reset_index(drop=True, inplace=True)\n"
   ]
  },
  {
   "cell_type": "code",
   "execution_count": 8,
   "metadata": {},
   "outputs": [
    {
     "data": {
      "text/html": [
       "<div>\n",
       "<style scoped>\n",
       "    .dataframe tbody tr th:only-of-type {\n",
       "        vertical-align: middle;\n",
       "    }\n",
       "\n",
       "    .dataframe tbody tr th {\n",
       "        vertical-align: top;\n",
       "    }\n",
       "\n",
       "    .dataframe thead th {\n",
       "        text-align: right;\n",
       "    }\n",
       "</style>\n",
       "<table border=\"1\" class=\"dataframe\">\n",
       "  <thead>\n",
       "    <tr style=\"text-align: right;\">\n",
       "      <th>Exterior2nd</th>\n",
       "      <th>AsbShng</th>\n",
       "      <th>AsphShn</th>\n",
       "      <th>Brk Cmn</th>\n",
       "      <th>BrkFace</th>\n",
       "      <th>CBlock</th>\n",
       "      <th>CmentBd</th>\n",
       "      <th>HdBoard</th>\n",
       "      <th>ImStucc</th>\n",
       "      <th>MetalSd</th>\n",
       "      <th>Other</th>\n",
       "      <th>Plywood</th>\n",
       "      <th>Stone</th>\n",
       "      <th>Stucco</th>\n",
       "      <th>VinylSd</th>\n",
       "      <th>Wd Sdng</th>\n",
       "      <th>Wd Shng</th>\n",
       "    </tr>\n",
       "    <tr>\n",
       "      <th>Exterior1st</th>\n",
       "      <th></th>\n",
       "      <th></th>\n",
       "      <th></th>\n",
       "      <th></th>\n",
       "      <th></th>\n",
       "      <th></th>\n",
       "      <th></th>\n",
       "      <th></th>\n",
       "      <th></th>\n",
       "      <th></th>\n",
       "      <th></th>\n",
       "      <th></th>\n",
       "      <th></th>\n",
       "      <th></th>\n",
       "      <th></th>\n",
       "      <th></th>\n",
       "    </tr>\n",
       "  </thead>\n",
       "  <tbody>\n",
       "    <tr>\n",
       "      <th>AsbShng</th>\n",
       "      <td>35</td>\n",
       "      <td>0</td>\n",
       "      <td>0</td>\n",
       "      <td>0</td>\n",
       "      <td>0</td>\n",
       "      <td>1</td>\n",
       "      <td>0</td>\n",
       "      <td>0</td>\n",
       "      <td>0</td>\n",
       "      <td>0</td>\n",
       "      <td>5</td>\n",
       "      <td>0</td>\n",
       "      <td>1</td>\n",
       "      <td>0</td>\n",
       "      <td>1</td>\n",
       "      <td>0</td>\n",
       "    </tr>\n",
       "    <tr>\n",
       "      <th>AsphShn</th>\n",
       "      <td>0</td>\n",
       "      <td>2</td>\n",
       "      <td>0</td>\n",
       "      <td>0</td>\n",
       "      <td>0</td>\n",
       "      <td>0</td>\n",
       "      <td>0</td>\n",
       "      <td>0</td>\n",
       "      <td>0</td>\n",
       "      <td>0</td>\n",
       "      <td>0</td>\n",
       "      <td>0</td>\n",
       "      <td>0</td>\n",
       "      <td>0</td>\n",
       "      <td>0</td>\n",
       "      <td>0</td>\n",
       "    </tr>\n",
       "    <tr>\n",
       "      <th>BrkComm</th>\n",
       "      <td>0</td>\n",
       "      <td>0</td>\n",
       "      <td>4</td>\n",
       "      <td>0</td>\n",
       "      <td>0</td>\n",
       "      <td>0</td>\n",
       "      <td>0</td>\n",
       "      <td>0</td>\n",
       "      <td>0</td>\n",
       "      <td>0</td>\n",
       "      <td>0</td>\n",
       "      <td>0</td>\n",
       "      <td>1</td>\n",
       "      <td>0</td>\n",
       "      <td>1</td>\n",
       "      <td>0</td>\n",
       "    </tr>\n",
       "    <tr>\n",
       "      <th>BrkFace</th>\n",
       "      <td>1</td>\n",
       "      <td>0</td>\n",
       "      <td>0</td>\n",
       "      <td>43</td>\n",
       "      <td>0</td>\n",
       "      <td>0</td>\n",
       "      <td>3</td>\n",
       "      <td>0</td>\n",
       "      <td>3</td>\n",
       "      <td>0</td>\n",
       "      <td>8</td>\n",
       "      <td>3</td>\n",
       "      <td>3</td>\n",
       "      <td>1</td>\n",
       "      <td>20</td>\n",
       "      <td>1</td>\n",
       "    </tr>\n",
       "    <tr>\n",
       "      <th>CBlock</th>\n",
       "      <td>0</td>\n",
       "      <td>0</td>\n",
       "      <td>0</td>\n",
       "      <td>0</td>\n",
       "      <td>1</td>\n",
       "      <td>0</td>\n",
       "      <td>0</td>\n",
       "      <td>0</td>\n",
       "      <td>0</td>\n",
       "      <td>0</td>\n",
       "      <td>0</td>\n",
       "      <td>0</td>\n",
       "      <td>0</td>\n",
       "      <td>1</td>\n",
       "      <td>0</td>\n",
       "      <td>0</td>\n",
       "    </tr>\n",
       "    <tr>\n",
       "      <th>CemntBd</th>\n",
       "      <td>0</td>\n",
       "      <td>0</td>\n",
       "      <td>0</td>\n",
       "      <td>0</td>\n",
       "      <td>0</td>\n",
       "      <td>124</td>\n",
       "      <td>0</td>\n",
       "      <td>0</td>\n",
       "      <td>0</td>\n",
       "      <td>0</td>\n",
       "      <td>0</td>\n",
       "      <td>0</td>\n",
       "      <td>0</td>\n",
       "      <td>0</td>\n",
       "      <td>1</td>\n",
       "      <td>1</td>\n",
       "    </tr>\n",
       "    <tr>\n",
       "      <th>HdBoard</th>\n",
       "      <td>0</td>\n",
       "      <td>1</td>\n",
       "      <td>0</td>\n",
       "      <td>1</td>\n",
       "      <td>0</td>\n",
       "      <td>0</td>\n",
       "      <td>383</td>\n",
       "      <td>6</td>\n",
       "      <td>1</td>\n",
       "      <td>0</td>\n",
       "      <td>41</td>\n",
       "      <td>0</td>\n",
       "      <td>1</td>\n",
       "      <td>0</td>\n",
       "      <td>3</td>\n",
       "      <td>5</td>\n",
       "    </tr>\n",
       "    <tr>\n",
       "      <th>ImStucc</th>\n",
       "      <td>0</td>\n",
       "      <td>0</td>\n",
       "      <td>0</td>\n",
       "      <td>0</td>\n",
       "      <td>0</td>\n",
       "      <td>0</td>\n",
       "      <td>0</td>\n",
       "      <td>1</td>\n",
       "      <td>0</td>\n",
       "      <td>0</td>\n",
       "      <td>0</td>\n",
       "      <td>0</td>\n",
       "      <td>0</td>\n",
       "      <td>0</td>\n",
       "      <td>0</td>\n",
       "      <td>0</td>\n",
       "    </tr>\n",
       "    <tr>\n",
       "      <th>MetalSd</th>\n",
       "      <td>0</td>\n",
       "      <td>1</td>\n",
       "      <td>0</td>\n",
       "      <td>0</td>\n",
       "      <td>0</td>\n",
       "      <td>0</td>\n",
       "      <td>3</td>\n",
       "      <td>0</td>\n",
       "      <td>437</td>\n",
       "      <td>0</td>\n",
       "      <td>0</td>\n",
       "      <td>0</td>\n",
       "      <td>3</td>\n",
       "      <td>2</td>\n",
       "      <td>2</td>\n",
       "      <td>1</td>\n",
       "    </tr>\n",
       "    <tr>\n",
       "      <th>Plywood</th>\n",
       "      <td>0</td>\n",
       "      <td>0</td>\n",
       "      <td>18</td>\n",
       "      <td>0</td>\n",
       "      <td>1</td>\n",
       "      <td>0</td>\n",
       "      <td>6</td>\n",
       "      <td>4</td>\n",
       "      <td>0</td>\n",
       "      <td>0</td>\n",
       "      <td>184</td>\n",
       "      <td>0</td>\n",
       "      <td>0</td>\n",
       "      <td>1</td>\n",
       "      <td>4</td>\n",
       "      <td>1</td>\n",
       "    </tr>\n",
       "    <tr>\n",
       "      <th>Stone</th>\n",
       "      <td>0</td>\n",
       "      <td>0</td>\n",
       "      <td>0</td>\n",
       "      <td>0</td>\n",
       "      <td>0</td>\n",
       "      <td>0</td>\n",
       "      <td>1</td>\n",
       "      <td>0</td>\n",
       "      <td>0</td>\n",
       "      <td>0</td>\n",
       "      <td>0</td>\n",
       "      <td>1</td>\n",
       "      <td>0</td>\n",
       "      <td>0</td>\n",
       "      <td>0</td>\n",
       "      <td>0</td>\n",
       "    </tr>\n",
       "    <tr>\n",
       "      <th>Stucco</th>\n",
       "      <td>0</td>\n",
       "      <td>0</td>\n",
       "      <td>0</td>\n",
       "      <td>1</td>\n",
       "      <td>0</td>\n",
       "      <td>1</td>\n",
       "      <td>0</td>\n",
       "      <td>0</td>\n",
       "      <td>0</td>\n",
       "      <td>0</td>\n",
       "      <td>1</td>\n",
       "      <td>1</td>\n",
       "      <td>33</td>\n",
       "      <td>0</td>\n",
       "      <td>2</td>\n",
       "      <td>4</td>\n",
       "    </tr>\n",
       "    <tr>\n",
       "      <th>VinylSd</th>\n",
       "      <td>1</td>\n",
       "      <td>0</td>\n",
       "      <td>0</td>\n",
       "      <td>0</td>\n",
       "      <td>0</td>\n",
       "      <td>0</td>\n",
       "      <td>1</td>\n",
       "      <td>1</td>\n",
       "      <td>2</td>\n",
       "      <td>1</td>\n",
       "      <td>2</td>\n",
       "      <td>0</td>\n",
       "      <td>1</td>\n",
       "      <td>1004</td>\n",
       "      <td>2</td>\n",
       "      <td>9</td>\n",
       "    </tr>\n",
       "    <tr>\n",
       "      <th>Wd Sdng</th>\n",
       "      <td>1</td>\n",
       "      <td>0</td>\n",
       "      <td>0</td>\n",
       "      <td>1</td>\n",
       "      <td>0</td>\n",
       "      <td>0</td>\n",
       "      <td>7</td>\n",
       "      <td>3</td>\n",
       "      <td>4</td>\n",
       "      <td>0</td>\n",
       "      <td>16</td>\n",
       "      <td>1</td>\n",
       "      <td>3</td>\n",
       "      <td>3</td>\n",
       "      <td>350</td>\n",
       "      <td>18</td>\n",
       "    </tr>\n",
       "    <tr>\n",
       "      <th>WdShing</th>\n",
       "      <td>0</td>\n",
       "      <td>0</td>\n",
       "      <td>0</td>\n",
       "      <td>0</td>\n",
       "      <td>0</td>\n",
       "      <td>0</td>\n",
       "      <td>2</td>\n",
       "      <td>0</td>\n",
       "      <td>0</td>\n",
       "      <td>0</td>\n",
       "      <td>10</td>\n",
       "      <td>0</td>\n",
       "      <td>1</td>\n",
       "      <td>0</td>\n",
       "      <td>2</td>\n",
       "      <td>41</td>\n",
       "    </tr>\n",
       "  </tbody>\n",
       "</table>\n",
       "</div>"
      ],
      "text/plain": [
       "Exterior2nd  AsbShng  AsphShn  Brk Cmn  BrkFace  CBlock  CmentBd  HdBoard  \\\n",
       "Exterior1st                                                                 \n",
       "AsbShng           35        0        0        0       0        1        0   \n",
       "AsphShn            0        2        0        0       0        0        0   \n",
       "BrkComm            0        0        4        0       0        0        0   \n",
       "BrkFace            1        0        0       43       0        0        3   \n",
       "CBlock             0        0        0        0       1        0        0   \n",
       "CemntBd            0        0        0        0       0      124        0   \n",
       "HdBoard            0        1        0        1       0        0      383   \n",
       "ImStucc            0        0        0        0       0        0        0   \n",
       "MetalSd            0        1        0        0       0        0        3   \n",
       "Plywood            0        0       18        0       1        0        6   \n",
       "Stone              0        0        0        0       0        0        1   \n",
       "Stucco             0        0        0        1       0        1        0   \n",
       "VinylSd            1        0        0        0       0        0        1   \n",
       "Wd Sdng            1        0        0        1       0        0        7   \n",
       "WdShing            0        0        0        0       0        0        2   \n",
       "\n",
       "Exterior2nd  ImStucc  MetalSd  Other  Plywood  Stone  Stucco  VinylSd  \\\n",
       "Exterior1st                                                             \n",
       "AsbShng            0        0      0        5      0       1        0   \n",
       "AsphShn            0        0      0        0      0       0        0   \n",
       "BrkComm            0        0      0        0      0       1        0   \n",
       "BrkFace            0        3      0        8      3       3        1   \n",
       "CBlock             0        0      0        0      0       0        1   \n",
       "CemntBd            0        0      0        0      0       0        0   \n",
       "HdBoard            6        1      0       41      0       1        0   \n",
       "ImStucc            1        0      0        0      0       0        0   \n",
       "MetalSd            0      437      0        0      0       3        2   \n",
       "Plywood            4        0      0      184      0       0        1   \n",
       "Stone              0        0      0        0      1       0        0   \n",
       "Stucco             0        0      0        1      1      33        0   \n",
       "VinylSd            1        2      1        2      0       1     1004   \n",
       "Wd Sdng            3        4      0       16      1       3        3   \n",
       "WdShing            0        0      0       10      0       1        0   \n",
       "\n",
       "Exterior2nd  Wd Sdng  Wd Shng  \n",
       "Exterior1st                    \n",
       "AsbShng            1        0  \n",
       "AsphShn            0        0  \n",
       "BrkComm            1        0  \n",
       "BrkFace           20        1  \n",
       "CBlock             0        0  \n",
       "CemntBd            1        1  \n",
       "HdBoard            3        5  \n",
       "ImStucc            0        0  \n",
       "MetalSd            2        1  \n",
       "Plywood            4        1  \n",
       "Stone              0        0  \n",
       "Stucco             2        4  \n",
       "VinylSd            2        9  \n",
       "Wd Sdng          350       18  \n",
       "WdShing            2       41  "
      ]
     },
     "execution_count": 8,
     "metadata": {},
     "output_type": "execute_result"
    }
   ],
   "source": [
    "Exteriors_df = pd.crosstab(old_df['Exterior1st'], old_df['Exterior2nd'])\n",
    "Exteriors_df"
   ]
  },
  {
   "cell_type": "markdown",
   "metadata": {},
   "source": [
    "Here the pattern can be notice is that each unique value of Exterior's is intercepting mostly with it's column that makes present of both colmn near to unsesable (sorry for english) that can be visualzize a differnt way also"
   ]
  },
  {
   "cell_type": "code",
   "execution_count": 9,
   "metadata": {},
   "outputs": [
    {
     "data": {
      "text/plain": [
       "<Axes: xlabel='Exterior2nd', ylabel='Exterior2nd'>"
      ]
     },
     "execution_count": 9,
     "metadata": {},
     "output_type": "execute_result"
    },
    {
     "data": {
      "image/png": "[encoded data removed]",
      "text/plain": [
       "<Figure size 1000x1000 with 2 Axes>"
      ]
     },
     "metadata": {},
     "output_type": "display_data"
    }
   ],
   "source": [
    "## plotting correlation matrix for that\n",
    "import seaborn as sns\n",
    "import matplotlib.pyplot as plt\n",
    "plt.figure(figsize= (10, 10))\n",
    "sns.heatmap(Exteriors_df.corr(), annot = True, cmap = 'Reds')"
   ]
  },
  {
   "cell_type": "code",
   "execution_count": 10,
   "metadata": {},
   "outputs": [
    {
     "data": {
      "text/plain": [
       "(2908, 187)"
      ]
     },
     "execution_count": 10,
     "metadata": {},
     "output_type": "execute_result"
    }
   ],
   "source": [
    "df.shape"
   ]
  },
  {
   "cell_type": "markdown",
   "metadata": {},
   "source": [
    "Here is the corelation matrix that shows that Exterior 1st and Exterior 2nd are almost representing same data so Exterior1st , Exterior2nd can be selected as a single column <code>Exteriors</code>"
   ]
  },
  {
   "cell_type": "code",
   "execution_count": 11,
   "metadata": {},
   "outputs": [
    {
     "name": "stdout",
     "output_type": "stream",
     "text": [
      "['__Exterior1st_BrkFace', '__Exterior1st_CemntBd', '__Exterior1st_HdBoard', '__Exterior1st_MetalSd', '__Exterior1st_Other', '__Exterior1st_Plywood', '__Exterior1st_VinylSd', '__Exterior1st_Wd Sdng', '__Exterior1st_WdShing', '__Exterior2nd_CmentBd', '__Exterior2nd_HdBoard', '__Exterior2nd_MetalSd', '__Exterior2nd_Other', '__Exterior2nd_Plywood', '__Exterior2nd_VinylSd', '__Exterior2nd_Wd Sdng', '__Exterior2nd_Wd Shng']\n"
     ]
    },
    {
     "data": {
      "text/plain": [
       "(2908, 170)"
      ]
     },
     "execution_count": 11,
     "metadata": {},
     "output_type": "execute_result"
    }
   ],
   "source": [
    "print(f.find_columns(df,['Exterior1st', 'Exterior2nd']))\n",
    "df.drop(f.find_columns(df,['Exterior1st', 'Exterior2nd']), axis = 1, inplace = True)\n",
    "df.shape\n"
   ]
  },
  {
   "cell_type": "code",
   "execution_count": 12,
   "metadata": {},
   "outputs": [
    {
     "name": "stdout",
     "output_type": "stream",
     "text": [
      "Exterior\n",
      "VinylSd    1024\n",
      "MetalSd     449\n",
      "HdBoard     442\n",
      "Wd Sdng     407\n",
      "Plywood     219\n",
      "CemntBd     126\n",
      "BrkFace      86\n",
      "WdShing      56\n",
      "AsbShng      43\n",
      "Stucco       43\n",
      "BrkComm       6\n",
      "AsphShn       2\n",
      "Stone         2\n",
      "CBlock        2\n",
      "ImStucc       1\n",
      "Name: count, dtype: int64\n"
     ]
    },
    {
     "data": {
      "text/plain": [
       "(2908, 171)"
      ]
     },
     "execution_count": 12,
     "metadata": {},
     "output_type": "execute_result"
    }
   ],
   "source": [
    "## Adding Exterior column\n",
    "df['Exterior'] = old_df['Exterior1st']\n",
    "print(df['Exterior'].value_counts())\n",
    "df.shape"
   ]
  },
  {
   "cell_type": "markdown",
   "metadata": {},
   "source": [
    "Introductin others for this where it's less than 50"
   ]
  },
  {
   "cell_type": "code",
   "execution_count": 13,
   "metadata": {},
   "outputs": [
    {
     "name": "stdout",
     "output_type": "stream",
     "text": [
      "Exterior\n",
      "VinylSd    1024\n",
      "MetalSd     449\n",
      "HdBoard     442\n",
      "Wd Sdng     407\n",
      "Plywood     219\n",
      "CemntBd     126\n",
      "Other        99\n",
      "BrkFace      86\n",
      "WdShing      56\n",
      "Name: count, dtype: int64\n"
     ]
    }
   ],
   "source": [
    "## importing function file for using the other file\n",
    "f.introduce_other(df, 'Exterior', 50)\n",
    "print(df['Exterior'].value_counts())"
   ]
  },
  {
   "cell_type": "code",
   "execution_count": 14,
   "metadata": {},
   "outputs": [
    {
     "data": {
      "text/plain": [
       "['Exterior']"
      ]
     },
     "execution_count": 14,
     "metadata": {},
     "output_type": "execute_result"
    }
   ],
   "source": [
    "f.find_columns(df, ['Exterio'])"
   ]
  },
  {
   "cell_type": "code",
   "execution_count": 15,
   "metadata": {},
   "outputs": [
    {
     "data": {
      "text/plain": [
       "(2908, 179)"
      ]
     },
     "execution_count": 15,
     "metadata": {},
     "output_type": "execute_result"
    }
   ],
   "source": [
    "## applying OHE on this column\n",
    "from sklearn.preprocessing import OneHotEncoder\n",
    "encoder = OneHotEncoder(sparse_output = False)\n",
    "encoded_exterior = encoder.fit_transform(df[['Exterior']])\n",
    "encoded_exterior_df = pd.DataFrame(encoded_exterior, columns= encoder.get_feature_names_out())\n",
    "\n",
    "## appending this df to main df\n",
    "df = pd.concat([df, encoded_exterior_df ], axis = 1)\n",
    "df.drop('Exterior', axis = 1, inplace = True)\n",
    "df.shape"
   ]
  },
  {
   "cell_type": "markdown",
   "metadata": {},
   "source": [
    "Checking Garage columns since they may very corelated"
   ]
  },
  {
   "cell_type": "code",
   "execution_count": 16,
   "metadata": {},
   "outputs": [
    {
     "data": {
      "text/html": [
       "<div>\n",
       "<style scoped>\n",
       "    .dataframe tbody tr th:only-of-type {\n",
       "        vertical-align: middle;\n",
       "    }\n",
       "\n",
       "    .dataframe tbody tr th {\n",
       "        vertical-align: top;\n",
       "    }\n",
       "\n",
       "    .dataframe thead th {\n",
       "        text-align: right;\n",
       "    }\n",
       "</style>\n",
       "<table border=\"1\" class=\"dataframe\">\n",
       "  <thead>\n",
       "    <tr style=\"text-align: right;\">\n",
       "      <th></th>\n",
       "      <th>GarageType</th>\n",
       "      <th>GarageYrBlt</th>\n",
       "      <th>GarageFinish</th>\n",
       "      <th>GarageCars</th>\n",
       "      <th>GarageArea</th>\n",
       "      <th>GarageQual</th>\n",
       "      <th>GarageCond</th>\n",
       "    </tr>\n",
       "  </thead>\n",
       "  <tbody>\n",
       "    <tr>\n",
       "      <th>0</th>\n",
       "      <td>Attchd</td>\n",
       "      <td>2003.0</td>\n",
       "      <td>RFn</td>\n",
       "      <td>2.0</td>\n",
       "      <td>548.0</td>\n",
       "      <td>TA</td>\n",
       "      <td>TA</td>\n",
       "    </tr>\n",
       "    <tr>\n",
       "      <th>1</th>\n",
       "      <td>Attchd</td>\n",
       "      <td>1976.0</td>\n",
       "      <td>RFn</td>\n",
       "      <td>2.0</td>\n",
       "      <td>460.0</td>\n",
       "      <td>TA</td>\n",
       "      <td>TA</td>\n",
       "    </tr>\n",
       "    <tr>\n",
       "      <th>2</th>\n",
       "      <td>Attchd</td>\n",
       "      <td>2001.0</td>\n",
       "      <td>RFn</td>\n",
       "      <td>2.0</td>\n",
       "      <td>608.0</td>\n",
       "      <td>TA</td>\n",
       "      <td>TA</td>\n",
       "    </tr>\n",
       "    <tr>\n",
       "      <th>3</th>\n",
       "      <td>Detchd</td>\n",
       "      <td>1998.0</td>\n",
       "      <td>Unf</td>\n",
       "      <td>3.0</td>\n",
       "      <td>642.0</td>\n",
       "      <td>TA</td>\n",
       "      <td>TA</td>\n",
       "    </tr>\n",
       "    <tr>\n",
       "      <th>4</th>\n",
       "      <td>Attchd</td>\n",
       "      <td>2000.0</td>\n",
       "      <td>RFn</td>\n",
       "      <td>3.0</td>\n",
       "      <td>836.0</td>\n",
       "      <td>TA</td>\n",
       "      <td>TA</td>\n",
       "    </tr>\n",
       "    <tr>\n",
       "      <th>...</th>\n",
       "      <td>...</td>\n",
       "      <td>...</td>\n",
       "      <td>...</td>\n",
       "      <td>...</td>\n",
       "      <td>...</td>\n",
       "      <td>...</td>\n",
       "      <td>...</td>\n",
       "    </tr>\n",
       "    <tr>\n",
       "      <th>2903</th>\n",
       "      <td>No Garage</td>\n",
       "      <td>0.0</td>\n",
       "      <td>No Garage</td>\n",
       "      <td>0.0</td>\n",
       "      <td>0.0</td>\n",
       "      <td>No Garage</td>\n",
       "      <td>No Garage</td>\n",
       "    </tr>\n",
       "    <tr>\n",
       "      <th>2904</th>\n",
       "      <td>CarPort</td>\n",
       "      <td>1970.0</td>\n",
       "      <td>Unf</td>\n",
       "      <td>1.0</td>\n",
       "      <td>286.0</td>\n",
       "      <td>TA</td>\n",
       "      <td>TA</td>\n",
       "    </tr>\n",
       "    <tr>\n",
       "      <th>2905</th>\n",
       "      <td>Detchd</td>\n",
       "      <td>1960.0</td>\n",
       "      <td>Unf</td>\n",
       "      <td>2.0</td>\n",
       "      <td>576.0</td>\n",
       "      <td>TA</td>\n",
       "      <td>TA</td>\n",
       "    </tr>\n",
       "    <tr>\n",
       "      <th>2906</th>\n",
       "      <td>No Garage</td>\n",
       "      <td>0.0</td>\n",
       "      <td>No Garage</td>\n",
       "      <td>0.0</td>\n",
       "      <td>0.0</td>\n",
       "      <td>No Garage</td>\n",
       "      <td>No Garage</td>\n",
       "    </tr>\n",
       "    <tr>\n",
       "      <th>2907</th>\n",
       "      <td>Attchd</td>\n",
       "      <td>1993.0</td>\n",
       "      <td>Fin</td>\n",
       "      <td>3.0</td>\n",
       "      <td>650.0</td>\n",
       "      <td>TA</td>\n",
       "      <td>TA</td>\n",
       "    </tr>\n",
       "  </tbody>\n",
       "</table>\n",
       "<p>2908 rows × 7 columns</p>\n",
       "</div>"
      ],
      "text/plain": [
       "     GarageType  GarageYrBlt GarageFinish  GarageCars  GarageArea GarageQual  \\\n",
       "0        Attchd       2003.0          RFn         2.0       548.0         TA   \n",
       "1        Attchd       1976.0          RFn         2.0       460.0         TA   \n",
       "2        Attchd       2001.0          RFn         2.0       608.0         TA   \n",
       "3        Detchd       1998.0          Unf         3.0       642.0         TA   \n",
       "4        Attchd       2000.0          RFn         3.0       836.0         TA   \n",
       "...         ...          ...          ...         ...         ...        ...   \n",
       "2903  No Garage          0.0    No Garage         0.0         0.0  No Garage   \n",
       "2904    CarPort       1970.0          Unf         1.0       286.0         TA   \n",
       "2905     Detchd       1960.0          Unf         2.0       576.0         TA   \n",
       "2906  No Garage          0.0    No Garage         0.0         0.0  No Garage   \n",
       "2907     Attchd       1993.0          Fin         3.0       650.0         TA   \n",
       "\n",
       "     GarageCond  \n",
       "0            TA  \n",
       "1            TA  \n",
       "2            TA  \n",
       "3            TA  \n",
       "4            TA  \n",
       "...         ...  \n",
       "2903  No Garage  \n",
       "2904         TA  \n",
       "2905         TA  \n",
       "2906  No Garage  \n",
       "2907         TA  \n",
       "\n",
       "[2908 rows x 7 columns]"
      ]
     },
     "execution_count": 16,
     "metadata": {},
     "output_type": "execute_result"
    }
   ],
   "source": [
    "garage_cols = [col for col in old_df.columns if \"Garage\" in col]\n",
    "old_df[garage_cols]"
   ]
  },
  {
   "cell_type": "markdown",
   "metadata": {},
   "source": [
    "Now if we look then <code>GarageCars</code> and <code>GarageArea</code> anyone feature can be removed since they are giving kind of same information (size of Garage)."
   ]
  },
  {
   "cell_type": "code",
   "execution_count": 17,
   "metadata": {},
   "outputs": [
    {
     "name": "stdout",
     "output_type": "stream",
     "text": [
      "0.3147578499429743\n",
      "0.31168634676077234\n"
     ]
    }
   ],
   "source": [
    "## checking corelation with SalePrice of both the features\n",
    "print(old_df.GarageCars.corr(old_df.SalePrice))  ## Corelation with GarageCars\n",
    "print(old_df.GarageArea.corr(old_df.SalePrice))  ## Corelation with GarageArea"
   ]
  },
  {
   "cell_type": "markdown",
   "metadata": {},
   "source": [
    "Corelation of Boths are quite same but still GarageCars is making little bit more sense so dropping GarageArea columns"
   ]
  },
  {
   "cell_type": "code",
   "execution_count": 18,
   "metadata": {},
   "outputs": [],
   "source": [
    "df.drop('GarageArea', axis = 1, inplace = True)"
   ]
  },
  {
   "cell_type": "markdown",
   "metadata": {},
   "source": [
    "For GarageType, GarageYrBuilt, GarageFinish i will create a new column based on condition<br>\n",
    "<li><code>Modern Finished Garage:</code> Built after 2000 and has a Fin finish.</li>\n",
    "<li><code>Modern Unfinished Garage:</code>  Built after 2000 but has Unf or RFn finish.</li>\n",
    "<li><code>Old Finished Garage:</code>  Built before 2000 with a Fin finish.</li>\n",
    "<li><code>Old Unfinished Garage:</code>  Built before 2000 with Unf or RFn finish.</li>\n",
    "<li><code>No Garage.</code> <br>\n",
    "after that will train data with new category and the old one and will see which is performing better"
   ]
  },
  {
   "cell_type": "code",
   "execution_count": 19,
   "metadata": {},
   "outputs": [
    {
     "data": {
      "text/html": [
       "<div>\n",
       "<style scoped>\n",
       "    .dataframe tbody tr th:only-of-type {\n",
       "        vertical-align: middle;\n",
       "    }\n",
       "\n",
       "    .dataframe tbody tr th {\n",
       "        vertical-align: top;\n",
       "    }\n",
       "\n",
       "    .dataframe thead th {\n",
       "        text-align: right;\n",
       "    }\n",
       "</style>\n",
       "<table border=\"1\" class=\"dataframe\">\n",
       "  <thead>\n",
       "    <tr style=\"text-align: right;\">\n",
       "      <th></th>\n",
       "      <th>GarageType</th>\n",
       "      <th>GarageYrBlt</th>\n",
       "      <th>GarageFinish</th>\n",
       "      <th>GarageCars</th>\n",
       "      <th>GarageArea</th>\n",
       "      <th>GarageQual</th>\n",
       "      <th>GarageCond</th>\n",
       "    </tr>\n",
       "  </thead>\n",
       "  <tbody>\n",
       "    <tr>\n",
       "      <th>0</th>\n",
       "      <td>Attchd</td>\n",
       "      <td>2003.0</td>\n",
       "      <td>RFn</td>\n",
       "      <td>2.0</td>\n",
       "      <td>548.0</td>\n",
       "      <td>TA</td>\n",
       "      <td>TA</td>\n",
       "    </tr>\n",
       "    <tr>\n",
       "      <th>1</th>\n",
       "      <td>Attchd</td>\n",
       "      <td>1976.0</td>\n",
       "      <td>RFn</td>\n",
       "      <td>2.0</td>\n",
       "      <td>460.0</td>\n",
       "      <td>TA</td>\n",
       "      <td>TA</td>\n",
       "    </tr>\n",
       "    <tr>\n",
       "      <th>2</th>\n",
       "      <td>Attchd</td>\n",
       "      <td>2001.0</td>\n",
       "      <td>RFn</td>\n",
       "      <td>2.0</td>\n",
       "      <td>608.0</td>\n",
       "      <td>TA</td>\n",
       "      <td>TA</td>\n",
       "    </tr>\n",
       "    <tr>\n",
       "      <th>3</th>\n",
       "      <td>Detchd</td>\n",
       "      <td>1998.0</td>\n",
       "      <td>Unf</td>\n",
       "      <td>3.0</td>\n",
       "      <td>642.0</td>\n",
       "      <td>TA</td>\n",
       "      <td>TA</td>\n",
       "    </tr>\n",
       "    <tr>\n",
       "      <th>4</th>\n",
       "      <td>Attchd</td>\n",
       "      <td>2000.0</td>\n",
       "      <td>RFn</td>\n",
       "      <td>3.0</td>\n",
       "      <td>836.0</td>\n",
       "      <td>TA</td>\n",
       "      <td>TA</td>\n",
       "    </tr>\n",
       "    <tr>\n",
       "      <th>...</th>\n",
       "      <td>...</td>\n",
       "      <td>...</td>\n",
       "      <td>...</td>\n",
       "      <td>...</td>\n",
       "      <td>...</td>\n",
       "      <td>...</td>\n",
       "      <td>...</td>\n",
       "    </tr>\n",
       "    <tr>\n",
       "      <th>2903</th>\n",
       "      <td>No Garage</td>\n",
       "      <td>0.0</td>\n",
       "      <td>No Garage</td>\n",
       "      <td>0.0</td>\n",
       "      <td>0.0</td>\n",
       "      <td>No Garage</td>\n",
       "      <td>No Garage</td>\n",
       "    </tr>\n",
       "    <tr>\n",
       "      <th>2904</th>\n",
       "      <td>CarPort</td>\n",
       "      <td>1970.0</td>\n",
       "      <td>Unf</td>\n",
       "      <td>1.0</td>\n",
       "      <td>286.0</td>\n",
       "      <td>TA</td>\n",
       "      <td>TA</td>\n",
       "    </tr>\n",
       "    <tr>\n",
       "      <th>2905</th>\n",
       "      <td>Detchd</td>\n",
       "      <td>1960.0</td>\n",
       "      <td>Unf</td>\n",
       "      <td>2.0</td>\n",
       "      <td>576.0</td>\n",
       "      <td>TA</td>\n",
       "      <td>TA</td>\n",
       "    </tr>\n",
       "    <tr>\n",
       "      <th>2906</th>\n",
       "      <td>No Garage</td>\n",
       "      <td>0.0</td>\n",
       "      <td>No Garage</td>\n",
       "      <td>0.0</td>\n",
       "      <td>0.0</td>\n",
       "      <td>No Garage</td>\n",
       "      <td>No Garage</td>\n",
       "    </tr>\n",
       "    <tr>\n",
       "      <th>2907</th>\n",
       "      <td>Attchd</td>\n",
       "      <td>1993.0</td>\n",
       "      <td>Fin</td>\n",
       "      <td>3.0</td>\n",
       "      <td>650.0</td>\n",
       "      <td>TA</td>\n",
       "      <td>TA</td>\n",
       "    </tr>\n",
       "  </tbody>\n",
       "</table>\n",
       "<p>2908 rows × 7 columns</p>\n",
       "</div>"
      ],
      "text/plain": [
       "     GarageType  GarageYrBlt GarageFinish  GarageCars  GarageArea GarageQual  \\\n",
       "0        Attchd       2003.0          RFn         2.0       548.0         TA   \n",
       "1        Attchd       1976.0          RFn         2.0       460.0         TA   \n",
       "2        Attchd       2001.0          RFn         2.0       608.0         TA   \n",
       "3        Detchd       1998.0          Unf         3.0       642.0         TA   \n",
       "4        Attchd       2000.0          RFn         3.0       836.0         TA   \n",
       "...         ...          ...          ...         ...         ...        ...   \n",
       "2903  No Garage          0.0    No Garage         0.0         0.0  No Garage   \n",
       "2904    CarPort       1970.0          Unf         1.0       286.0         TA   \n",
       "2905     Detchd       1960.0          Unf         2.0       576.0         TA   \n",
       "2906  No Garage          0.0    No Garage         0.0         0.0  No Garage   \n",
       "2907     Attchd       1993.0          Fin         3.0       650.0         TA   \n",
       "\n",
       "     GarageCond  \n",
       "0            TA  \n",
       "1            TA  \n",
       "2            TA  \n",
       "3            TA  \n",
       "4            TA  \n",
       "...         ...  \n",
       "2903  No Garage  \n",
       "2904         TA  \n",
       "2905         TA  \n",
       "2906  No Garage  \n",
       "2907         TA  \n",
       "\n",
       "[2908 rows x 7 columns]"
      ]
     },
     "execution_count": 19,
     "metadata": {},
     "output_type": "execute_result"
    }
   ],
   "source": [
    "old_df[f.find_columns(old_df, ['Garage'])]"
   ]
  },
  {
   "cell_type": "code",
   "execution_count": 20,
   "metadata": {},
   "outputs": [],
   "source": [
    "# Define a function to categorize garages\n",
    "def categorize_garage(row):\n",
    "    if row['GarageType'] == 'No Garage':\n",
    "        return 'No Garage'\n",
    "    elif row['GarageYrBlt'] > 2000:\n",
    "        if row['GarageFinish'] == 'Fin':\n",
    "            return 'Modern Finished Garage'\n",
    "        elif row['GarageFinish'] in ['Unf', 'RFn']:\n",
    "            return 'Modern Unfinished Garage'\n",
    "    elif row['GarageYrBlt'] <= 2000:\n",
    "        if row['GarageFinish'] == 'Fin':\n",
    "            return 'Old Finished Garage'\n",
    "        elif row['GarageFinish'] in ['Unf', 'RFn']:\n",
    "            return 'Old Unfinished Garage'\n",
    "    return 'Unknown'  # Fallback for unexpected cases\n",
    "\n",
    "# Apply the function to create the new column\n",
    "df['GarageRating'] = old_df.apply(categorize_garage, axis=1)"
   ]
  },
  {
   "cell_type": "code",
   "execution_count": 21,
   "metadata": {},
   "outputs": [
    {
     "data": {
      "text/plain": [
       "0       Modern Unfinished Garage\n",
       "1          Old Unfinished Garage\n",
       "2       Modern Unfinished Garage\n",
       "3          Old Unfinished Garage\n",
       "4          Old Unfinished Garage\n",
       "                  ...           \n",
       "2903                   No Garage\n",
       "2904       Old Unfinished Garage\n",
       "2905       Old Unfinished Garage\n",
       "2906                   No Garage\n",
       "2907         Old Finished Garage\n",
       "Name: GarageRating, Length: 2908, dtype: object"
      ]
     },
     "execution_count": 21,
     "metadata": {},
     "output_type": "execute_result"
    }
   ],
   "source": [
    "df['GarageRating']"
   ]
  },
  {
   "cell_type": "code",
   "execution_count": 22,
   "metadata": {},
   "outputs": [
    {
     "data": {
      "text/plain": [
       "GarageRating\n",
       "1    1651\n",
       "3     382\n",
       "4     370\n",
       "2     348\n",
       "0     157\n",
       "Name: count, dtype: int64"
      ]
     },
     "execution_count": 22,
     "metadata": {},
     "output_type": "execute_result"
    }
   ],
   "source": [
    "## Now adding Label Encoding For GarageRating Column\n",
    "df['GarageRating'] = df['GarageRating'].map(\n",
    "    {\n",
    "        'Modern Finished Garage': 4,\n",
    "        'Modern Unfinished Garage': 3,\n",
    "        'Old Finished Garage': 2,\n",
    "        'Old Unfinished Garage': 1,\n",
    "        'No Garage': 0,\n",
    "        'Unknown': 0\n",
    "    }\n",
    ")\n",
    "\n",
    "df['GarageRating'].value_counts()"
   ]
  },
  {
   "cell_type": "code",
   "execution_count": 23,
   "metadata": {},
   "outputs": [
    {
     "data": {
      "text/plain": [
       "['GarageYrBlt',\n",
       " 'GarageFinish',\n",
       " '__GarageType_Attchd',\n",
       " '__GarageType_Basment',\n",
       " '__GarageType_BuiltIn',\n",
       " '__GarageType_Detchd',\n",
       " '__GarageType_No Garage',\n",
       " '__GarageType_Other']"
      ]
     },
     "execution_count": 23,
     "metadata": {},
     "output_type": "execute_result"
    }
   ],
   "source": [
    "f.find_columns(df, ['GarageType', 'GarageYrBlt', 'GarageFinish'])"
   ]
  },
  {
   "cell_type": "markdown",
   "metadata": {},
   "source": [
    "Now creating two dataFram one with Garage columns one with only GarageRating column"
   ]
  },
  {
   "cell_type": "code",
   "execution_count": 24,
   "metadata": {},
   "outputs": [],
   "source": [
    "Garage_rating_df = df.drop(f.find_columns(df, ['GarageType', 'GarageYrBlt', 'GarageFinish']), axis = 1)  ## contains GarageRating only\n",
    "No_Garage_rating_df = df.drop('GarageRating', axis = 1) ## Does not contain GarageRating"
   ]
  },
  {
   "cell_type": "code",
   "execution_count": 25,
   "metadata": {},
   "outputs": [
    {
     "data": {
      "text/plain": [
       "(2908, 171)"
      ]
     },
     "execution_count": 25,
     "metadata": {},
     "output_type": "execute_result"
    }
   ],
   "source": [
    "Garage_rating_df.shape"
   ]
  },
  {
   "cell_type": "code",
   "execution_count": 26,
   "metadata": {},
   "outputs": [
    {
     "data": {
      "text/plain": [
       "(2908, 178)"
      ]
     },
     "execution_count": 26,
     "metadata": {},
     "output_type": "execute_result"
    }
   ],
   "source": [
    "No_Garage_rating_df.shape"
   ]
  },
  {
   "cell_type": "code",
   "execution_count": 27,
   "metadata": {},
   "outputs": [],
   "source": [
    "# Adding SalePrice into my main data for further splitting process\n",
    "df['SalePrice'] = old_df['SalePrice']"
   ]
  },
  {
   "cell_type": "code",
   "execution_count": 28,
   "metadata": {},
   "outputs": [],
   "source": [
    "## training the data and get accuracy\n",
    "## Importing Models to check for accuracy\n",
    "# Import popular regression models\n",
    "import numpy as np\n",
    "from sklearn.preprocessing import StandardScaler , OneHotEncoder\n",
    "from sklearn.linear_model import LinearRegression\n",
    "from sklearn.tree import DecisionTreeRegressor\n",
    "from sklearn.ensemble import RandomForestRegressor, GradientBoostingRegressor\n",
    "from sklearn.model_selection import train_test_split\n",
    "\n",
    "# Create a dictionary of models\n",
    "models = {\n",
    "    'Decision Tree': DecisionTreeRegressor(),\n",
    "    'Random Forest': RandomForestRegressor(),\n",
    "    'Gradient Boosting': GradientBoostingRegressor(),\n",
    "}\n",
    "\n",
    "\n",
    "\n",
    "# Evaluation metrics for regression\n",
    "from sklearn.metrics import root_mean_squared_error as rmse, r2_score\n",
    "from sklearn.model_selection import cross_val_score\n",
    "\n",
    "# Function to evaluate models\n",
    "def evaluate_models(df, models):\n",
    "\n",
    "    X , Y = df.drop('SalePrice', axis = 1), df.SalePrice   ## for cross val chcekcing\n",
    "    ## Splitting traintest data\n",
    "    X_train, X_test, y_train, y_test = train_test_split(X, Y, test_size = 0.1,  random_state = 42)\n",
    "  \n",
    "\n",
    "    ## scaling the X data\n",
    "    X_scaled = StandardScaler().fit_transform(X)\n",
    "    X = pd.DataFrame(X_scaled, columns= X.columns)\n",
    "\n",
    "    ## scaling train test data\n",
    "    ss2 = StandardScaler()\n",
    "    X_train_scaled = ss2.fit_transform(X_train)\n",
    "    X_test_scaled = ss2.transform(X_test)\n",
    "    X_train = pd.DataFrame(X_train_scaled, columns = X_train.columns)\n",
    "    X_test = pd.DataFrame(X_test_scaled, columns = X_test.columns)\n",
    "\n",
    "    ## dic for storing result\n",
    "    results = {}\n",
    "    for name, model in models.items():\n",
    "        # Train model\n",
    "        model.fit(X_train, y_train)\n",
    "        \n",
    "        # Make predictions\n",
    "        y_pred_test = model.predict(X_test)\n",
    "        y_pred_train = model.predict(X_train)\n",
    "\n",
    "        ## doing cross validation\n",
    "        cv_score = np.mean(cross_val_score(model, X , Y, cv = 5))\n",
    "        \n",
    "        # Calculate metrics\n",
    "        rmse_train = rmse(y_train, y_pred_train)\n",
    "        rmse_test = rmse(y_test, y_pred_test)\n",
    "        R2_train = r2_score(y_train, y_pred_train)\n",
    "        R2_test = r2_score(y_test, y_pred_test)\n",
    "        \n",
    "        results[name] = {\n",
    "            'rmse_train': rmse_train,\n",
    "            'rmse_test': rmse_test,\n",
    "            'R2_train' : R2_train,\n",
    "            'R2_test': R2_test,\n",
    "            'cross_val_score': cv_score\n",
    "        }\n",
    "    print(X.shape)\n",
    "    \n",
    "    return pd.DataFrame(results).T\n",
    "\n",
    "# Evaluate all models for with Garage column\n",
    "# evaluate_models(Garage_rating_df , models)\n",
    "\n"
   ]
  },
  {
   "cell_type": "code",
   "execution_count": 29,
   "metadata": {},
   "outputs": [],
   "source": [
    "# evaluate_models(No_Garage_rating_df , models)"
   ]
  },
  {
   "cell_type": "markdown",
   "metadata": {},
   "source": [
    "if we compare then data with GarageRating feature having little bit more accuracy so for further process choosing that data only"
   ]
  },
  {
   "cell_type": "code",
   "execution_count": 30,
   "metadata": {},
   "outputs": [
    {
     "data": {
      "text/plain": [
       "(2908, 171)"
      ]
     },
     "execution_count": 30,
     "metadata": {},
     "output_type": "execute_result"
    }
   ],
   "source": [
    "df = Garage_rating_df\n",
    "df.shape"
   ]
  },
  {
   "cell_type": "markdown",
   "metadata": {},
   "source": [
    "Again checking rest GarageColumns"
   ]
  },
  {
   "cell_type": "code",
   "execution_count": 31,
   "metadata": {},
   "outputs": [
    {
     "data": {
      "text/html": [
       "<div>\n",
       "<style scoped>\n",
       "    .dataframe tbody tr th:only-of-type {\n",
       "        vertical-align: middle;\n",
       "    }\n",
       "\n",
       "    .dataframe tbody tr th {\n",
       "        vertical-align: top;\n",
       "    }\n",
       "\n",
       "    .dataframe thead th {\n",
       "        text-align: right;\n",
       "    }\n",
       "</style>\n",
       "<table border=\"1\" class=\"dataframe\">\n",
       "  <thead>\n",
       "    <tr style=\"text-align: right;\">\n",
       "      <th></th>\n",
       "      <th>GarageCars</th>\n",
       "      <th>GarageQual</th>\n",
       "      <th>GarageCond</th>\n",
       "      <th>GarageRating</th>\n",
       "    </tr>\n",
       "  </thead>\n",
       "  <tbody>\n",
       "    <tr>\n",
       "      <th>0</th>\n",
       "      <td>2.0</td>\n",
       "      <td>3</td>\n",
       "      <td>3</td>\n",
       "      <td>3</td>\n",
       "    </tr>\n",
       "    <tr>\n",
       "      <th>1</th>\n",
       "      <td>2.0</td>\n",
       "      <td>3</td>\n",
       "      <td>3</td>\n",
       "      <td>1</td>\n",
       "    </tr>\n",
       "    <tr>\n",
       "      <th>2</th>\n",
       "      <td>2.0</td>\n",
       "      <td>3</td>\n",
       "      <td>3</td>\n",
       "      <td>3</td>\n",
       "    </tr>\n",
       "    <tr>\n",
       "      <th>3</th>\n",
       "      <td>3.0</td>\n",
       "      <td>3</td>\n",
       "      <td>3</td>\n",
       "      <td>1</td>\n",
       "    </tr>\n",
       "    <tr>\n",
       "      <th>4</th>\n",
       "      <td>3.0</td>\n",
       "      <td>3</td>\n",
       "      <td>3</td>\n",
       "      <td>1</td>\n",
       "    </tr>\n",
       "    <tr>\n",
       "      <th>...</th>\n",
       "      <td>...</td>\n",
       "      <td>...</td>\n",
       "      <td>...</td>\n",
       "      <td>...</td>\n",
       "    </tr>\n",
       "    <tr>\n",
       "      <th>2903</th>\n",
       "      <td>0.0</td>\n",
       "      <td>0</td>\n",
       "      <td>0</td>\n",
       "      <td>0</td>\n",
       "    </tr>\n",
       "    <tr>\n",
       "      <th>2904</th>\n",
       "      <td>1.0</td>\n",
       "      <td>3</td>\n",
       "      <td>3</td>\n",
       "      <td>1</td>\n",
       "    </tr>\n",
       "    <tr>\n",
       "      <th>2905</th>\n",
       "      <td>2.0</td>\n",
       "      <td>3</td>\n",
       "      <td>3</td>\n",
       "      <td>1</td>\n",
       "    </tr>\n",
       "    <tr>\n",
       "      <th>2906</th>\n",
       "      <td>0.0</td>\n",
       "      <td>0</td>\n",
       "      <td>0</td>\n",
       "      <td>0</td>\n",
       "    </tr>\n",
       "    <tr>\n",
       "      <th>2907</th>\n",
       "      <td>3.0</td>\n",
       "      <td>3</td>\n",
       "      <td>3</td>\n",
       "      <td>2</td>\n",
       "    </tr>\n",
       "  </tbody>\n",
       "</table>\n",
       "<p>2908 rows × 4 columns</p>\n",
       "</div>"
      ],
      "text/plain": [
       "      GarageCars  GarageQual  GarageCond  GarageRating\n",
       "0            2.0           3           3             3\n",
       "1            2.0           3           3             1\n",
       "2            2.0           3           3             3\n",
       "3            3.0           3           3             1\n",
       "4            3.0           3           3             1\n",
       "...          ...         ...         ...           ...\n",
       "2903         0.0           0           0             0\n",
       "2904         1.0           3           3             1\n",
       "2905         2.0           3           3             1\n",
       "2906         0.0           0           0             0\n",
       "2907         3.0           3           3             2\n",
       "\n",
       "[2908 rows x 4 columns]"
      ]
     },
     "execution_count": 31,
     "metadata": {},
     "output_type": "execute_result"
    }
   ],
   "source": [
    "df[f.find_columns(df, ['Garage'])]"
   ]
  },
  {
   "cell_type": "code",
   "execution_count": 32,
   "metadata": {},
   "outputs": [
    {
     "data": {
      "text/plain": [
       "GarageRating\n",
       "1    1651\n",
       "3     382\n",
       "4     370\n",
       "2     348\n",
       "0     157\n",
       "Name: count, dtype: int64"
      ]
     },
     "execution_count": 32,
     "metadata": {},
     "output_type": "execute_result"
    }
   ],
   "source": [
    "df['GarageRating'].value_counts()"
   ]
  },
  {
   "cell_type": "code",
   "execution_count": 33,
   "metadata": {},
   "outputs": [
    {
     "data": {
      "text/plain": [
       "GarageQual\n",
       "3    2597\n",
       "0     157\n",
       "2     122\n",
       "4      24\n",
       "1       5\n",
       "5       3\n",
       "Name: count, dtype: int64"
      ]
     },
     "execution_count": 33,
     "metadata": {},
     "output_type": "execute_result"
    }
   ],
   "source": [
    "df['GarageQual'].value_counts()"
   ]
  },
  {
   "cell_type": "code",
   "execution_count": 34,
   "metadata": {},
   "outputs": [
    {
     "data": {
      "text/html": [
       "<div>\n",
       "<style scoped>\n",
       "    .dataframe tbody tr th:only-of-type {\n",
       "        vertical-align: middle;\n",
       "    }\n",
       "\n",
       "    .dataframe tbody tr th {\n",
       "        vertical-align: top;\n",
       "    }\n",
       "\n",
       "    .dataframe thead th {\n",
       "        text-align: right;\n",
       "    }\n",
       "</style>\n",
       "<table border=\"1\" class=\"dataframe\">\n",
       "  <thead>\n",
       "    <tr style=\"text-align: right;\">\n",
       "      <th></th>\n",
       "      <th>GarageCars</th>\n",
       "      <th>GarageQual</th>\n",
       "      <th>GarageCond</th>\n",
       "    </tr>\n",
       "  </thead>\n",
       "  <tbody>\n",
       "    <tr>\n",
       "      <th>2121</th>\n",
       "      <td>1.0</td>\n",
       "      <td>0</td>\n",
       "      <td>0</td>\n",
       "    </tr>\n",
       "  </tbody>\n",
       "</table>\n",
       "</div>"
      ],
      "text/plain": [
       "      GarageCars  GarageQual  GarageCond\n",
       "2121         1.0           0           0"
      ]
     },
     "execution_count": 34,
     "metadata": {},
     "output_type": "execute_result"
    }
   ],
   "source": [
    "cross_checking = df[(df.GarageQual == 0)][['GarageCars', 'GarageQual', 'GarageCond']]\n",
    "cross_checking[cross_checking.GarageCars != 0]"
   ]
  },
  {
   "cell_type": "markdown",
   "metadata": {},
   "source": [
    "Here one row is not making sense if GarageQual is 0 means GarageCars should also be zero."
   ]
  },
  {
   "cell_type": "code",
   "execution_count": 35,
   "metadata": {},
   "outputs": [],
   "source": [
    "## changing value to 0 on index 2121\n",
    "df.loc[2121, 'GarageCars'] = 0"
   ]
  },
  {
   "cell_type": "code",
   "execution_count": 36,
   "metadata": {},
   "outputs": [
    {
     "name": "stdout",
     "output_type": "stream",
     "text": [
      "0.31481829714346926 0.13977869140461516 0.15342881009449283 0.26721161803720744\n"
     ]
    }
   ],
   "source": [
    "print(df['GarageCars'].corr(df.SalePrice), df['GarageCond'].corr(df.SalePrice), df['GarageQual'].corr(df.SalePrice), df['GarageRating'].corr(df.SalePrice))"
   ]
  },
  {
   "cell_type": "code",
   "execution_count": 37,
   "metadata": {},
   "outputs": [
    {
     "data": {
      "text/plain": [
       "np.float64(0.32275511452892286)"
      ]
     },
     "execution_count": 37,
     "metadata": {},
     "output_type": "execute_result"
    }
   ],
   "source": [
    "df['GarageScore'] = (\n",
    "    df['GarageCars'] * 15 +  # Give more weight to capacity\n",
    "    df['GarageQual']  +\n",
    "    df['GarageCond']  + \n",
    "    df['GarageRating'] * 12 # Give some importance to rating\n",
    ")\n",
    "\n",
    "df.GarageScore.corr(df.SalePrice)"
   ]
  },
  {
   "cell_type": "code",
   "execution_count": 38,
   "metadata": {},
   "outputs": [],
   "source": [
    "test_df = df.drop(['GarageCars', 'GarageQual', 'GarageCond', 'GarageRating'], axis = 1)\n",
    "# evaluate_models(test_df, models)"
   ]
  },
  {
   "cell_type": "markdown",
   "metadata": {},
   "source": [
    "So after removing plenty of columns accuracy is still quite same so we can consider this change in our data"
   ]
  },
  {
   "cell_type": "code",
   "execution_count": 39,
   "metadata": {},
   "outputs": [
    {
     "data": {
      "text/plain": [
       "(2908, 168)"
      ]
     },
     "execution_count": 39,
     "metadata": {},
     "output_type": "execute_result"
    }
   ],
   "source": [
    "df.drop(['GarageCars', 'GarageQual', 'GarageCond', 'GarageRating'], axis = 1, inplace = True)\n",
    "df.shape"
   ]
  },
  {
   "cell_type": "markdown",
   "metadata": {},
   "source": [
    "Now Let's deal with <code>Bsmt</code> Things"
   ]
  },
  {
   "cell_type": "code",
   "execution_count": 40,
   "metadata": {},
   "outputs": [
    {
     "data": {
      "text/html": [
       "<div>\n",
       "<style scoped>\n",
       "    .dataframe tbody tr th:only-of-type {\n",
       "        vertical-align: middle;\n",
       "    }\n",
       "\n",
       "    .dataframe tbody tr th {\n",
       "        vertical-align: top;\n",
       "    }\n",
       "\n",
       "    .dataframe thead th {\n",
       "        text-align: right;\n",
       "    }\n",
       "</style>\n",
       "<table border=\"1\" class=\"dataframe\">\n",
       "  <thead>\n",
       "    <tr style=\"text-align: right;\">\n",
       "      <th></th>\n",
       "      <th>BsmtQual</th>\n",
       "      <th>BsmtCond</th>\n",
       "      <th>BsmtExposure</th>\n",
       "      <th>BsmtFinType1</th>\n",
       "      <th>BsmtFinSF1</th>\n",
       "      <th>BsmtFinType2</th>\n",
       "      <th>BsmtFinSF2</th>\n",
       "      <th>BsmtUnfSF</th>\n",
       "      <th>TotalBsmtSF</th>\n",
       "      <th>BsmtFullBath</th>\n",
       "      <th>BsmtHalfBath</th>\n",
       "    </tr>\n",
       "  </thead>\n",
       "  <tbody>\n",
       "    <tr>\n",
       "      <th>0</th>\n",
       "      <td>4</td>\n",
       "      <td>3</td>\n",
       "      <td>1</td>\n",
       "      <td>6</td>\n",
       "      <td>0.801119</td>\n",
       "      <td>1</td>\n",
       "      <td>-0.367490</td>\n",
       "      <td>-0.874114</td>\n",
       "      <td>-0.391172</td>\n",
       "      <td>1.0</td>\n",
       "      <td>0.0</td>\n",
       "    </tr>\n",
       "    <tr>\n",
       "      <th>1</th>\n",
       "      <td>4</td>\n",
       "      <td>3</td>\n",
       "      <td>4</td>\n",
       "      <td>5</td>\n",
       "      <td>1.015129</td>\n",
       "      <td>1</td>\n",
       "      <td>-0.367490</td>\n",
       "      <td>-0.420053</td>\n",
       "      <td>0.513179</td>\n",
       "      <td>0.0</td>\n",
       "      <td>1.0</td>\n",
       "    </tr>\n",
       "    <tr>\n",
       "      <th>2</th>\n",
       "      <td>4</td>\n",
       "      <td>3</td>\n",
       "      <td>2</td>\n",
       "      <td>6</td>\n",
       "      <td>0.574736</td>\n",
       "      <td>1</td>\n",
       "      <td>-0.367490</td>\n",
       "      <td>-0.033529</td>\n",
       "      <td>-0.242509</td>\n",
       "      <td>1.0</td>\n",
       "      <td>0.0</td>\n",
       "    </tr>\n",
       "    <tr>\n",
       "      <th>3</th>\n",
       "      <td>3</td>\n",
       "      <td>4</td>\n",
       "      <td>1</td>\n",
       "      <td>5</td>\n",
       "      <td>0.145070</td>\n",
       "      <td>1</td>\n",
       "      <td>-0.367490</td>\n",
       "      <td>0.197833</td>\n",
       "      <td>-0.629152</td>\n",
       "      <td>1.0</td>\n",
       "      <td>0.0</td>\n",
       "    </tr>\n",
       "    <tr>\n",
       "      <th>4</th>\n",
       "      <td>4</td>\n",
       "      <td>3</td>\n",
       "      <td>3</td>\n",
       "      <td>6</td>\n",
       "      <td>0.754096</td>\n",
       "      <td>1</td>\n",
       "      <td>-0.367490</td>\n",
       "      <td>0.092024</td>\n",
       "      <td>0.261180</td>\n",
       "      <td>1.0</td>\n",
       "      <td>0.0</td>\n",
       "    </tr>\n",
       "    <tr>\n",
       "      <th>...</th>\n",
       "      <td>...</td>\n",
       "      <td>...</td>\n",
       "      <td>...</td>\n",
       "      <td>...</td>\n",
       "      <td>...</td>\n",
       "      <td>...</td>\n",
       "      <td>...</td>\n",
       "      <td>...</td>\n",
       "      <td>...</td>\n",
       "      <td>...</td>\n",
       "      <td>...</td>\n",
       "    </tr>\n",
       "    <tr>\n",
       "      <th>2903</th>\n",
       "      <td>4</td>\n",
       "      <td>3</td>\n",
       "      <td>1</td>\n",
       "      <td>1</td>\n",
       "      <td>-1.356953</td>\n",
       "      <td>1</td>\n",
       "      <td>-0.367490</td>\n",
       "      <td>0.923053</td>\n",
       "      <td>-0.166865</td>\n",
       "      <td>0.0</td>\n",
       "      <td>0.0</td>\n",
       "    </tr>\n",
       "    <tr>\n",
       "      <th>2904</th>\n",
       "      <td>4</td>\n",
       "      <td>3</td>\n",
       "      <td>1</td>\n",
       "      <td>5</td>\n",
       "      <td>0.873148</td>\n",
       "      <td>3</td>\n",
       "      <td>2.721677</td>\n",
       "      <td>0.296593</td>\n",
       "      <td>1.094012</td>\n",
       "      <td>0.0</td>\n",
       "      <td>0.0</td>\n",
       "    </tr>\n",
       "    <tr>\n",
       "      <th>2905</th>\n",
       "      <td>3</td>\n",
       "      <td>4</td>\n",
       "      <td>1</td>\n",
       "      <td>6</td>\n",
       "      <td>0.264751</td>\n",
       "      <td>1</td>\n",
       "      <td>-0.367490</td>\n",
       "      <td>0.804504</td>\n",
       "      <td>0.276432</td>\n",
       "      <td>1.0</td>\n",
       "      <td>0.0</td>\n",
       "    </tr>\n",
       "    <tr>\n",
       "      <th>2906</th>\n",
       "      <td>3</td>\n",
       "      <td>3</td>\n",
       "      <td>2</td>\n",
       "      <td>6</td>\n",
       "      <td>-0.459064</td>\n",
       "      <td>3</td>\n",
       "      <td>2.723343</td>\n",
       "      <td>-2.058860</td>\n",
       "      <td>0.114002</td>\n",
       "      <td>0.0</td>\n",
       "      <td>1.0</td>\n",
       "    </tr>\n",
       "    <tr>\n",
       "      <th>2907</th>\n",
       "      <td>3</td>\n",
       "      <td>3</td>\n",
       "      <td>1</td>\n",
       "      <td>4</td>\n",
       "      <td>0.905386</td>\n",
       "      <td>2</td>\n",
       "      <td>2.722692</td>\n",
       "      <td>-0.932485</td>\n",
       "      <td>0.500402</td>\n",
       "      <td>0.0</td>\n",
       "      <td>0.0</td>\n",
       "    </tr>\n",
       "  </tbody>\n",
       "</table>\n",
       "<p>2908 rows × 11 columns</p>\n",
       "</div>"
      ],
      "text/plain": [
       "      BsmtQual  BsmtCond  BsmtExposure  BsmtFinType1  BsmtFinSF1  \\\n",
       "0            4         3             1             6    0.801119   \n",
       "1            4         3             4             5    1.015129   \n",
       "2            4         3             2             6    0.574736   \n",
       "3            3         4             1             5    0.145070   \n",
       "4            4         3             3             6    0.754096   \n",
       "...        ...       ...           ...           ...         ...   \n",
       "2903         4         3             1             1   -1.356953   \n",
       "2904         4         3             1             5    0.873148   \n",
       "2905         3         4             1             6    0.264751   \n",
       "2906         3         3             2             6   -0.459064   \n",
       "2907         3         3             1             4    0.905386   \n",
       "\n",
       "      BsmtFinType2  BsmtFinSF2  BsmtUnfSF  TotalBsmtSF  BsmtFullBath  \\\n",
       "0                1   -0.367490  -0.874114    -0.391172           1.0   \n",
       "1                1   -0.367490  -0.420053     0.513179           0.0   \n",
       "2                1   -0.367490  -0.033529    -0.242509           1.0   \n",
       "3                1   -0.367490   0.197833    -0.629152           1.0   \n",
       "4                1   -0.367490   0.092024     0.261180           1.0   \n",
       "...            ...         ...        ...          ...           ...   \n",
       "2903             1   -0.367490   0.923053    -0.166865           0.0   \n",
       "2904             3    2.721677   0.296593     1.094012           0.0   \n",
       "2905             1   -0.367490   0.804504     0.276432           1.0   \n",
       "2906             3    2.723343  -2.058860     0.114002           0.0   \n",
       "2907             2    2.722692  -0.932485     0.500402           0.0   \n",
       "\n",
       "      BsmtHalfBath  \n",
       "0              0.0  \n",
       "1              1.0  \n",
       "2              0.0  \n",
       "3              0.0  \n",
       "4              0.0  \n",
       "...            ...  \n",
       "2903           0.0  \n",
       "2904           0.0  \n",
       "2905           0.0  \n",
       "2906           1.0  \n",
       "2907           0.0  \n",
       "\n",
       "[2908 rows x 11 columns]"
      ]
     },
     "execution_count": 40,
     "metadata": {},
     "output_type": "execute_result"
    }
   ],
   "source": [
    "df[f.find_columns(df, ['Bsmt'])]"
   ]
  },
  {
   "cell_type": "markdown",
   "metadata": {},
   "source": [
    "Here i can do 2 changes instantly that is removing <code>TotalBsmtSF</code> since it is nothing but sum of BsmtFinSF1, BsmtFinSF2 and BsmtUnfSF and second Create Total BsmtBathrooms by BsmtFullBath and BsmtHalfBath"
   ]
  },
  {
   "cell_type": "code",
   "execution_count": 41,
   "metadata": {},
   "outputs": [
    {
     "data": {
      "text/plain": [
       "(2908, 167)"
      ]
     },
     "execution_count": 41,
     "metadata": {},
     "output_type": "execute_result"
    }
   ],
   "source": [
    "df.drop('TotalBsmtSF', axis = 1, inplace = True)\n",
    "df.shape"
   ]
  },
  {
   "cell_type": "code",
   "execution_count": 42,
   "metadata": {},
   "outputs": [],
   "source": [
    "# evaluate_models(df, models)"
   ]
  },
  {
   "cell_type": "markdown",
   "metadata": {},
   "source": [
    "We can consider this change since accuracy is quiet same"
   ]
  },
  {
   "cell_type": "code",
   "execution_count": 43,
   "metadata": {},
   "outputs": [
    {
     "data": {
      "text/plain": [
       "(2908, 165)"
      ]
     },
     "execution_count": 43,
     "metadata": {},
     "output_type": "execute_result"
    }
   ],
   "source": [
    "df.drop(['BsmtHalfBath', 'BsmtFullBath'], axis = 1, inplace = True)\n",
    "df.shape"
   ]
  },
  {
   "cell_type": "markdown",
   "metadata": {},
   "source": [
    "Let's except of two BsmtFinSF create two "
   ]
  },
  {
   "cell_type": "code",
   "execution_count": 44,
   "metadata": {},
   "outputs": [
    {
     "name": "stdout",
     "output_type": "stream",
     "text": [
      "0.231840054930147 -0.052218940456560115\n"
     ]
    }
   ],
   "source": [
    "print(df.BsmtFinSF1.corr(df.SalePrice), df.BsmtFinSF2.corr(df.SalePrice))\n"
   ]
  },
  {
   "cell_type": "code",
   "execution_count": 45,
   "metadata": {},
   "outputs": [
    {
     "name": "stdout",
     "output_type": "stream",
     "text": [
      "0.1487681094787889\n",
      "-0.052218940456560115\n",
      "0.09335307544955226\n"
     ]
    }
   ],
   "source": [
    "print(df.BsmtFinSF1.corr(df.BsmtFinSF2))\n",
    "print(df.BsmtFinSF2.corr(df.SalePrice))\n",
    "print(df.BsmtCond.corr(df.BsmtFinSF2))"
   ]
  },
  {
   "cell_type": "markdown",
   "metadata": {},
   "source": [
    "Since BsmtFinSF2 seems very irrelevant so removing this column can be a good idea"
   ]
  },
  {
   "cell_type": "code",
   "execution_count": 46,
   "metadata": {},
   "outputs": [],
   "source": [
    "df.drop('BsmtFinSF2', axis = 1, inplace = True)"
   ]
  },
  {
   "cell_type": "code",
   "execution_count": 47,
   "metadata": {},
   "outputs": [
    {
     "name": "stdout",
     "output_type": "stream",
     "text": [
      "0.21386852789809604\n",
      "0.5864849167208012\n",
      "0.3724411798209463\n"
     ]
    }
   ],
   "source": [
    "print(df.BsmtCond.corr(df.SalePrice))\n",
    "print(df.BsmtQual.corr(df.SalePrice))\n",
    "print(df.BsmtExposure.corr(df.SalePrice))"
   ]
  },
  {
   "cell_type": "markdown",
   "metadata": {},
   "source": [
    "Let's check correlation matrix to find any interrealtion features"
   ]
  },
  {
   "cell_type": "code",
   "execution_count": 48,
   "metadata": {},
   "outputs": [
    {
     "data": {
      "text/html": [
       "<div>\n",
       "<style scoped>\n",
       "    .dataframe tbody tr th:only-of-type {\n",
       "        vertical-align: middle;\n",
       "    }\n",
       "\n",
       "    .dataframe tbody tr th {\n",
       "        vertical-align: top;\n",
       "    }\n",
       "\n",
       "    .dataframe thead th {\n",
       "        text-align: right;\n",
       "    }\n",
       "</style>\n",
       "<table border=\"1\" class=\"dataframe\">\n",
       "  <thead>\n",
       "    <tr style=\"text-align: right;\">\n",
       "      <th></th>\n",
       "      <th>BsmtQual</th>\n",
       "      <th>BsmtCond</th>\n",
       "      <th>BsmtExposure</th>\n",
       "      <th>BsmtFinType1</th>\n",
       "      <th>BsmtFinSF1</th>\n",
       "      <th>BsmtFinType2</th>\n",
       "      <th>BsmtUnfSF</th>\n",
       "    </tr>\n",
       "  </thead>\n",
       "  <tbody>\n",
       "    <tr>\n",
       "      <th>BsmtQual</th>\n",
       "      <td>1.000000</td>\n",
       "      <td>0.634352</td>\n",
       "      <td>0.398934</td>\n",
       "      <td>0.378231</td>\n",
       "      <td>0.231512</td>\n",
       "      <td>0.086008</td>\n",
       "      <td>0.306464</td>\n",
       "    </tr>\n",
       "    <tr>\n",
       "      <th>BsmtCond</th>\n",
       "      <td>0.634352</td>\n",
       "      <td>1.000000</td>\n",
       "      <td>0.256523</td>\n",
       "      <td>0.299387</td>\n",
       "      <td>0.226175</td>\n",
       "      <td>0.243270</td>\n",
       "      <td>0.263998</td>\n",
       "    </tr>\n",
       "    <tr>\n",
       "      <th>BsmtExposure</th>\n",
       "      <td>0.398934</td>\n",
       "      <td>0.256523</td>\n",
       "      <td>1.000000</td>\n",
       "      <td>0.347608</td>\n",
       "      <td>0.301101</td>\n",
       "      <td>0.126610</td>\n",
       "      <td>-0.055871</td>\n",
       "    </tr>\n",
       "    <tr>\n",
       "      <th>BsmtFinType1</th>\n",
       "      <td>0.378231</td>\n",
       "      <td>0.299387</td>\n",
       "      <td>0.347608</td>\n",
       "      <td>1.000000</td>\n",
       "      <td>0.841511</td>\n",
       "      <td>0.097796</td>\n",
       "      <td>-0.333950</td>\n",
       "    </tr>\n",
       "    <tr>\n",
       "      <th>BsmtFinSF1</th>\n",
       "      <td>0.231512</td>\n",
       "      <td>0.226175</td>\n",
       "      <td>0.301101</td>\n",
       "      <td>0.841511</td>\n",
       "      <td>1.000000</td>\n",
       "      <td>0.138116</td>\n",
       "      <td>-0.522335</td>\n",
       "    </tr>\n",
       "    <tr>\n",
       "      <th>BsmtFinType2</th>\n",
       "      <td>0.086008</td>\n",
       "      <td>0.243270</td>\n",
       "      <td>0.126610</td>\n",
       "      <td>0.097796</td>\n",
       "      <td>0.138116</td>\n",
       "      <td>1.000000</td>\n",
       "      <td>-0.164388</td>\n",
       "    </tr>\n",
       "    <tr>\n",
       "      <th>BsmtUnfSF</th>\n",
       "      <td>0.306464</td>\n",
       "      <td>0.263998</td>\n",
       "      <td>-0.055871</td>\n",
       "      <td>-0.333950</td>\n",
       "      <td>-0.522335</td>\n",
       "      <td>-0.164388</td>\n",
       "      <td>1.000000</td>\n",
       "    </tr>\n",
       "  </tbody>\n",
       "</table>\n",
       "</div>"
      ],
      "text/plain": [
       "              BsmtQual  BsmtCond  BsmtExposure  BsmtFinType1  BsmtFinSF1  \\\n",
       "BsmtQual      1.000000  0.634352      0.398934      0.378231    0.231512   \n",
       "BsmtCond      0.634352  1.000000      0.256523      0.299387    0.226175   \n",
       "BsmtExposure  0.398934  0.256523      1.000000      0.347608    0.301101   \n",
       "BsmtFinType1  0.378231  0.299387      0.347608      1.000000    0.841511   \n",
       "BsmtFinSF1    0.231512  0.226175      0.301101      0.841511    1.000000   \n",
       "BsmtFinType2  0.086008  0.243270      0.126610      0.097796    0.138116   \n",
       "BsmtUnfSF     0.306464  0.263998     -0.055871     -0.333950   -0.522335   \n",
       "\n",
       "              BsmtFinType2  BsmtUnfSF  \n",
       "BsmtQual          0.086008   0.306464  \n",
       "BsmtCond          0.243270   0.263998  \n",
       "BsmtExposure      0.126610  -0.055871  \n",
       "BsmtFinType1      0.097796  -0.333950  \n",
       "BsmtFinSF1        0.138116  -0.522335  \n",
       "BsmtFinType2      1.000000  -0.164388  \n",
       "BsmtUnfSF        -0.164388   1.000000  "
      ]
     },
     "execution_count": 48,
     "metadata": {},
     "output_type": "execute_result"
    }
   ],
   "source": [
    "df[f.find_columns(df, ['Bsmt'])].corr()"
   ]
  },
  {
   "cell_type": "markdown",
   "metadata": {},
   "source": [
    "Since BsmtQual and BsmtCond itself corelated so we will better create another feature to get rid off any multicoliniarity"
   ]
  },
  {
   "cell_type": "code",
   "execution_count": 49,
   "metadata": {},
   "outputs": [
    {
     "data": {
      "text/plain": [
       "np.float64(0.5906340650124071)"
      ]
     },
     "execution_count": 49,
     "metadata": {},
     "output_type": "execute_result"
    }
   ],
   "source": [
    "## Now creating BsmtRatingColumn as \n",
    "df['BsmtRating'] = (df['BsmtCond'] + df['BsmtQual']*7 + df['BsmtExposure']*3)\n",
    "df['BsmtRating'].corr(df.SalePrice)"
   ]
  },
  {
   "cell_type": "markdown",
   "metadata": {},
   "source": [
    "Now we created a new column which is corealted 59% with my Target"
   ]
  },
  {
   "cell_type": "code",
   "execution_count": 50,
   "metadata": {},
   "outputs": [],
   "source": [
    "test_df = df.drop(['BsmtCond', 'BsmtQual', 'BsmtExposure'], axis = 1)\n",
    "# evaluate_models(test_df, models)"
   ]
  },
  {
   "cell_type": "code",
   "execution_count": 51,
   "metadata": {},
   "outputs": [
    {
     "data": {
      "text/html": [
       "<div>\n",
       "<style scoped>\n",
       "    .dataframe tbody tr th:only-of-type {\n",
       "        vertical-align: middle;\n",
       "    }\n",
       "\n",
       "    .dataframe tbody tr th {\n",
       "        vertical-align: top;\n",
       "    }\n",
       "\n",
       "    .dataframe thead th {\n",
       "        text-align: right;\n",
       "    }\n",
       "</style>\n",
       "<table border=\"1\" class=\"dataframe\">\n",
       "  <thead>\n",
       "    <tr style=\"text-align: right;\">\n",
       "      <th></th>\n",
       "      <th>BsmtQual</th>\n",
       "      <th>BsmtCond</th>\n",
       "      <th>BsmtExposure</th>\n",
       "      <th>BsmtFinType1</th>\n",
       "      <th>BsmtFinSF1</th>\n",
       "      <th>BsmtFinType2</th>\n",
       "      <th>BsmtUnfSF</th>\n",
       "      <th>BsmtRating</th>\n",
       "    </tr>\n",
       "  </thead>\n",
       "  <tbody>\n",
       "    <tr>\n",
       "      <th>0</th>\n",
       "      <td>4</td>\n",
       "      <td>3</td>\n",
       "      <td>1</td>\n",
       "      <td>6</td>\n",
       "      <td>0.801119</td>\n",
       "      <td>1</td>\n",
       "      <td>-0.874114</td>\n",
       "      <td>34</td>\n",
       "    </tr>\n",
       "    <tr>\n",
       "      <th>1</th>\n",
       "      <td>4</td>\n",
       "      <td>3</td>\n",
       "      <td>4</td>\n",
       "      <td>5</td>\n",
       "      <td>1.015129</td>\n",
       "      <td>1</td>\n",
       "      <td>-0.420053</td>\n",
       "      <td>43</td>\n",
       "    </tr>\n",
       "    <tr>\n",
       "      <th>2</th>\n",
       "      <td>4</td>\n",
       "      <td>3</td>\n",
       "      <td>2</td>\n",
       "      <td>6</td>\n",
       "      <td>0.574736</td>\n",
       "      <td>1</td>\n",
       "      <td>-0.033529</td>\n",
       "      <td>37</td>\n",
       "    </tr>\n",
       "    <tr>\n",
       "      <th>3</th>\n",
       "      <td>3</td>\n",
       "      <td>4</td>\n",
       "      <td>1</td>\n",
       "      <td>5</td>\n",
       "      <td>0.145070</td>\n",
       "      <td>1</td>\n",
       "      <td>0.197833</td>\n",
       "      <td>28</td>\n",
       "    </tr>\n",
       "    <tr>\n",
       "      <th>4</th>\n",
       "      <td>4</td>\n",
       "      <td>3</td>\n",
       "      <td>3</td>\n",
       "      <td>6</td>\n",
       "      <td>0.754096</td>\n",
       "      <td>1</td>\n",
       "      <td>0.092024</td>\n",
       "      <td>40</td>\n",
       "    </tr>\n",
       "    <tr>\n",
       "      <th>...</th>\n",
       "      <td>...</td>\n",
       "      <td>...</td>\n",
       "      <td>...</td>\n",
       "      <td>...</td>\n",
       "      <td>...</td>\n",
       "      <td>...</td>\n",
       "      <td>...</td>\n",
       "      <td>...</td>\n",
       "    </tr>\n",
       "    <tr>\n",
       "      <th>2903</th>\n",
       "      <td>4</td>\n",
       "      <td>3</td>\n",
       "      <td>1</td>\n",
       "      <td>1</td>\n",
       "      <td>-1.356953</td>\n",
       "      <td>1</td>\n",
       "      <td>0.923053</td>\n",
       "      <td>34</td>\n",
       "    </tr>\n",
       "    <tr>\n",
       "      <th>2904</th>\n",
       "      <td>4</td>\n",
       "      <td>3</td>\n",
       "      <td>1</td>\n",
       "      <td>5</td>\n",
       "      <td>0.873148</td>\n",
       "      <td>3</td>\n",
       "      <td>0.296593</td>\n",
       "      <td>34</td>\n",
       "    </tr>\n",
       "    <tr>\n",
       "      <th>2905</th>\n",
       "      <td>3</td>\n",
       "      <td>4</td>\n",
       "      <td>1</td>\n",
       "      <td>6</td>\n",
       "      <td>0.264751</td>\n",
       "      <td>1</td>\n",
       "      <td>0.804504</td>\n",
       "      <td>28</td>\n",
       "    </tr>\n",
       "    <tr>\n",
       "      <th>2906</th>\n",
       "      <td>3</td>\n",
       "      <td>3</td>\n",
       "      <td>2</td>\n",
       "      <td>6</td>\n",
       "      <td>-0.459064</td>\n",
       "      <td>3</td>\n",
       "      <td>-2.058860</td>\n",
       "      <td>30</td>\n",
       "    </tr>\n",
       "    <tr>\n",
       "      <th>2907</th>\n",
       "      <td>3</td>\n",
       "      <td>3</td>\n",
       "      <td>1</td>\n",
       "      <td>4</td>\n",
       "      <td>0.905386</td>\n",
       "      <td>2</td>\n",
       "      <td>-0.932485</td>\n",
       "      <td>27</td>\n",
       "    </tr>\n",
       "  </tbody>\n",
       "</table>\n",
       "<p>2908 rows × 8 columns</p>\n",
       "</div>"
      ],
      "text/plain": [
       "      BsmtQual  BsmtCond  BsmtExposure  BsmtFinType1  BsmtFinSF1  \\\n",
       "0            4         3             1             6    0.801119   \n",
       "1            4         3             4             5    1.015129   \n",
       "2            4         3             2             6    0.574736   \n",
       "3            3         4             1             5    0.145070   \n",
       "4            4         3             3             6    0.754096   \n",
       "...        ...       ...           ...           ...         ...   \n",
       "2903         4         3             1             1   -1.356953   \n",
       "2904         4         3             1             5    0.873148   \n",
       "2905         3         4             1             6    0.264751   \n",
       "2906         3         3             2             6   -0.459064   \n",
       "2907         3         3             1             4    0.905386   \n",
       "\n",
       "      BsmtFinType2  BsmtUnfSF  BsmtRating  \n",
       "0                1  -0.874114          34  \n",
       "1                1  -0.420053          43  \n",
       "2                1  -0.033529          37  \n",
       "3                1   0.197833          28  \n",
       "4                1   0.092024          40  \n",
       "...            ...        ...         ...  \n",
       "2903             1   0.923053          34  \n",
       "2904             3   0.296593          34  \n",
       "2905             1   0.804504          28  \n",
       "2906             3  -2.058860          30  \n",
       "2907             2  -0.932485          27  \n",
       "\n",
       "[2908 rows x 8 columns]"
      ]
     },
     "execution_count": 51,
     "metadata": {},
     "output_type": "execute_result"
    }
   ],
   "source": [
    "df[f.find_columns(df, ['Bsmt'])]"
   ]
  },
  {
   "cell_type": "markdown",
   "metadata": {},
   "source": [
    "LotShape: General shape of property\n",
    "\n",
    "       Reg\tRegular\t\n",
    "       IR1\tSlightly irregular\n",
    "       IR2\tModerately Irregular\n",
    "       IR3\tIrregular"
   ]
  },
  {
   "cell_type": "code",
   "execution_count": 52,
   "metadata": {},
   "outputs": [],
   "source": [
    "df.drop(f.find_columns(df, ['LotShape']), axis = 1, inplace = True)\n",
    "df['LotShape'] = old_df['LotShape'].map({'Reg': 4, 'IR1': 3, 'IR2': 2, 'IR3': 1})\n",
    "# evaluate_models(df, models)"
   ]
  },
  {
   "cell_type": "markdown",
   "metadata": {},
   "source": [
    "LandSlope: Slope of property\n",
    "\t\t\n",
    "       Gtl\tGentle slope\n",
    "       Mod\tModerate Slope\t\n",
    "       Sev\tSevere Slope"
   ]
  },
  {
   "cell_type": "code",
   "execution_count": 53,
   "metadata": {},
   "outputs": [],
   "source": [
    "df.drop(f.find_columns(df, ['LandSl']), axis = 1, inplace = True)"
   ]
  },
  {
   "cell_type": "code",
   "execution_count": 54,
   "metadata": {},
   "outputs": [],
   "source": [
    "df['LandSlope'] = old_df['LandSlope'].map({'Gtl': 3, 'Mod': 2, 'Sev': 1})\n",
    "# evaluate_models(df, models)"
   ]
  },
  {
   "cell_type": "markdown",
   "metadata": {},
   "source": [
    "\t\n",
    "OverallQual: Rates the overall material and finish of the house\n",
    "\n",
    "       10\tVery Excellent\n",
    "       9\tExcellent\n",
    "       8\tVery Good\n",
    "       7\tGood\n",
    "       6\tAbove Average\n",
    "       5\tAverage\n",
    "       4\tBelow Average\n",
    "       3\tFair\n",
    "       2\tPoor\n",
    "       1\tVery Poor\n",
    "\t\n",
    "OverallCond: Rates the overall condition of the house\n",
    "\n",
    "       10\tVery Excellent\n",
    "       9\tExcellent\n",
    "       8\tVery Good\n",
    "       7\tGood\n",
    "       6\tAbove Average\t\n",
    "       5\tAverage\n",
    "       4\tBelow Average\t\n",
    "       3\tFair\n",
    "       2\tPoor\n",
    "       1\tVery Poor"
   ]
  },
  {
   "cell_type": "code",
   "execution_count": 55,
   "metadata": {},
   "outputs": [],
   "source": [
    "df[['OverallCond', 'OverallQual']] = df[['OverallCond', 'OverallQual']].astype('int')"
   ]
  },
  {
   "cell_type": "code",
   "execution_count": 56,
   "metadata": {},
   "outputs": [
    {
     "name": "stdout",
     "output_type": "stream",
     "text": [
      "0.3680524824814963 -0.038471059444957496\n"
     ]
    }
   ],
   "source": [
    "print(old_df.OverallQual.corr(old_df.SalePrice), old_df.OverallCond.corr(old_df.SalePrice))"
   ]
  },
  {
   "cell_type": "markdown",
   "metadata": {},
   "source": [
    "Since OveallCond is not mattering for target column so deleting it"
   ]
  },
  {
   "cell_type": "code",
   "execution_count": 57,
   "metadata": {},
   "outputs": [
    {
     "data": {
      "text/plain": [
       "np.float64(0.3680524824814963)"
      ]
     },
     "execution_count": 57,
     "metadata": {},
     "output_type": "execute_result"
    }
   ],
   "source": [
    "df['HouseCondition'] = df['OverallQual']\n",
    "df.drop(['OverallQual', 'OverallCond'], axis = 1, inplace = True)\n",
    "df.HouseCondition.corr(df.SalePrice)\n"
   ]
  },
  {
   "cell_type": "code",
   "execution_count": 58,
   "metadata": {},
   "outputs": [
    {
     "name": "stdout",
     "output_type": "stream",
     "text": [
      "-0.24480706830989546\n"
     ]
    }
   ],
   "source": [
    "df.RemodelAge.unique()\n",
    "print(df.RemodelAge.corr(df.SalePrice))"
   ]
  },
  {
   "cell_type": "code",
   "execution_count": 59,
   "metadata": {},
   "outputs": [
    {
     "data": {
      "text/plain": [
       "np.float64(0.2243508545135207)"
      ]
     },
     "execution_count": 59,
     "metadata": {},
     "output_type": "execute_result"
    }
   ],
   "source": [
    "# Create a new feature 'RemodelAgeCategory' based on conditions\n",
    "df['RemodelAge'] = df['RemodelAge'].map(\n",
    "    lambda x: 4 if x < 10 else\n",
    "              3 if x < 25 else\n",
    "              2 if x < 50 else\n",
    "              1\n",
    ")\n",
    "\n",
    "df.RemodelAge.corr(df.SalePrice)"
   ]
  },
  {
   "cell_type": "code",
   "execution_count": 60,
   "metadata": {},
   "outputs": [
    {
     "name": "stdout",
     "output_type": "stream",
     "text": [
      "-0.26167670183255914\n"
     ]
    },
    {
     "data": {
      "text/plain": [
       "np.float64(-0.26385004316343025)"
      ]
     },
     "execution_count": 60,
     "metadata": {},
     "output_type": "execute_result"
    }
   ],
   "source": [
    "print(df.HouseAge.corr(df.SalePrice))\n",
    "df['HouseAge'].value_counts()\n",
    "\n",
    "df['HouseAge'] = df['HouseAge'].map(\n",
    "    lambda x : \n",
    "    1 if x <= 10 else\n",
    "    2 if x < 25 else\n",
    "    3 if x < 50 else\n",
    "    4 if x < 100 else 5\n",
    "\n",
    ")\n",
    "\n",
    "df.HouseAge.corr(df.SalePrice)"
   ]
  },
  {
   "cell_type": "markdown",
   "metadata": {},
   "source": [
    "Foundation: Type of foundation\n",
    "\t\t\n",
    "       BrkTil\tBrick & Tile\n",
    "       CBlock\tCinder Block\n",
    "       PConc\tPoured Contrete\t\n",
    "       Slab\tSlab\n",
    "       Stone\tStone\n",
    "       Wood\tWood"
   ]
  },
  {
   "cell_type": "code",
   "execution_count": 61,
   "metadata": {},
   "outputs": [
    {
     "name": "stdout",
     "output_type": "stream",
     "text": [
      "Foundation\n",
      "PConc     202919.911877\n",
      "Wood      190480.000000\n",
      "Stone     170570.272727\n",
      "CBlock    165666.390739\n",
      "BrkTil    153437.265372\n",
      "Slab      146628.978723\n",
      "Name: SalePrice, dtype: float64\n",
      "Foundation\n",
      "PConc     183900.0\n",
      "Wood      164000.0\n",
      "CBlock    149900.0\n",
      "Slab      139600.0\n",
      "BrkTil    137500.0\n",
      "Stone     137000.0\n",
      "Name: SalePrice, dtype: float64\n"
     ]
    }
   ],
   "source": [
    "print(old_df.groupby('Foundation').SalePrice.mean().sort_values(ascending = False))\n",
    "print(old_df.groupby('Foundation').SalePrice.median().sort_values(ascending = False))\n"
   ]
  },
  {
   "cell_type": "code",
   "execution_count": 62,
   "metadata": {},
   "outputs": [
    {
     "data": {
      "text/plain": [
       "np.float64(0.2585021111852868)"
      ]
     },
     "execution_count": 62,
     "metadata": {},
     "output_type": "execute_result"
    }
   ],
   "source": [
    "df.drop(f.find_columns(df, ['Founda']), axis = 1, inplace = True)\n",
    "df['Foundation'] = old_df['Foundation'].map({'BrkTil': 2, 'CBlock': 3, 'PConc': 6, 'Slab': 1, 'Stone': 4, 'Wood': 5})\n",
    "df.Foundation.corr(df.SalePrice)"
   ]
  },
  {
   "cell_type": "code",
   "execution_count": 63,
   "metadata": {},
   "outputs": [
    {
     "data": {
      "text/plain": [
       "(2908, 155)"
      ]
     },
     "execution_count": 63,
     "metadata": {},
     "output_type": "execute_result"
    }
   ],
   "source": [
    "df.shape"
   ]
  },
  {
   "cell_type": "code",
   "execution_count": 64,
   "metadata": {},
   "outputs": [
    {
     "data": {
      "text/plain": [
       "np.float64(0.6941187795645278)"
      ]
     },
     "execution_count": 64,
     "metadata": {},
     "output_type": "execute_result"
    }
   ],
   "source": [
    "df.GrLivArea.corr(df.SalePrice)"
   ]
  },
  {
   "cell_type": "code",
   "execution_count": 65,
   "metadata": {},
   "outputs": [
    {
     "data": {
      "text/plain": [
       "(np.float64(0.5907915684137075), np.float64(0.1541253601870155))"
      ]
     },
     "execution_count": 65,
     "metadata": {},
     "output_type": "execute_result"
    }
   ],
   "source": [
    "df['1stFlrSF'].corr(df.SalePrice), df['2ndFlrSF'].corr(df.SalePrice)"
   ]
  },
  {
   "cell_type": "code",
   "execution_count": 66,
   "metadata": {},
   "outputs": [],
   "source": [
    "df.drop('2ndFlrSF', axis = 1, inplace = True)"
   ]
  },
  {
   "cell_type": "code",
   "execution_count": 67,
   "metadata": {},
   "outputs": [],
   "source": [
    "df.drop('LowQualFinSF', axis = 1, inplace= True)"
   ]
  },
  {
   "cell_type": "code",
   "execution_count": 68,
   "metadata": {},
   "outputs": [
    {
     "data": {
      "text/plain": [
       "(2908, 153)"
      ]
     },
     "execution_count": 68,
     "metadata": {},
     "output_type": "execute_result"
    }
   ],
   "source": [
    "df.shape"
   ]
  },
  {
   "cell_type": "code",
   "execution_count": 69,
   "metadata": {},
   "outputs": [],
   "source": [
    "df['TotalAboveBathrooms'] = df['FullBath'] + 0.5 * df['HalfBath']\n",
    "df.drop(['FullBath', 'HalfBath'], axis = 1, inplace = True)\n"
   ]
  },
  {
   "cell_type": "code",
   "execution_count": 70,
   "metadata": {},
   "outputs": [],
   "source": [
    "# evaluate_models(df, models)"
   ]
  },
  {
   "cell_type": "code",
   "execution_count": 71,
   "metadata": {},
   "outputs": [
    {
     "data": {
      "text/plain": [
       "PoolQC\n",
       "0    2894\n",
       "1      14\n",
       "Name: count, dtype: int64"
      ]
     },
     "execution_count": 71,
     "metadata": {},
     "output_type": "execute_result"
    }
   ],
   "source": [
    "df.PoolQC.value_counts()"
   ]
  },
  {
   "cell_type": "code",
   "execution_count": 72,
   "metadata": {},
   "outputs": [
    {
     "data": {
      "text/plain": [
       "(2908, 150)"
      ]
     },
     "execution_count": 72,
     "metadata": {},
     "output_type": "execute_result"
    }
   ],
   "source": [
    "## deleting PoolArea and PoolQC column\n",
    "df.drop(['PoolArea', 'PoolQC'], axis = 1, inplace = True)\n",
    "df.shape"
   ]
  },
  {
   "cell_type": "code",
   "execution_count": 73,
   "metadata": {},
   "outputs": [],
   "source": [
    "df.drop(f.find_columns(df, ['Fence']), axis = 1, inplace = True)"
   ]
  },
  {
   "cell_type": "code",
   "execution_count": 74,
   "metadata": {},
   "outputs": [
    {
     "data": {
      "text/plain": [
       "Fence\n",
       "0    2345\n",
       "1     563\n",
       "Name: count, dtype: int64"
      ]
     },
     "execution_count": 74,
     "metadata": {},
     "output_type": "execute_result"
    }
   ],
   "source": [
    "df['Fence'] = old_df['Fence'].map(lambda x : 0 if x == \"No Fence\" else 1)\n",
    "df.Fence.value_counts()"
   ]
  },
  {
   "cell_type": "code",
   "execution_count": 75,
   "metadata": {},
   "outputs": [
    {
     "name": "stdout",
     "output_type": "stream",
     "text": [
      "-0.06928368161690586\n"
     ]
    }
   ],
   "source": [
    "print(df.MiscVal.corr(df.SalePrice))\n",
    "df.drop('MiscVal', axis = 1, inplace = True)"
   ]
  },
  {
   "cell_type": "code",
   "execution_count": 76,
   "metadata": {},
   "outputs": [],
   "source": [
    "# evaluate_models(df, models)"
   ]
  },
  {
   "cell_type": "code",
   "execution_count": 77,
   "metadata": {},
   "outputs": [
    {
     "data": {
      "text/plain": [
       "np.float64(0.2108426218976384)"
      ]
     },
     "execution_count": 77,
     "metadata": {},
     "output_type": "execute_result"
    }
   ],
   "source": [
    "df['TotalProchDeckArea'] = df['3SsnPorch'] + df['OpenPorchSF'] + df['ScreenPorch'] + df['EnclosedPorch']\n",
    "df.TotalProchDeckArea.corr(df.SalePrice)"
   ]
  },
  {
   "cell_type": "code",
   "execution_count": 78,
   "metadata": {},
   "outputs": [],
   "source": [
    "df.drop(['3SsnPorch', 'OpenPorchSF', 'ScreenPorch','EnclosedPorch'], axis = 1, inplace = True)"
   ]
  },
  {
   "cell_type": "code",
   "execution_count": 79,
   "metadata": {},
   "outputs": [],
   "source": [
    "# evaluate_models(df, models)"
   ]
  },
  {
   "cell_type": "markdown",
   "metadata": {},
   "source": [
    "After removing plenty of featues accuracy is quite the same so we can now use GridSearchCV for best parameters"
   ]
  },
  {
   "cell_type": "markdown",
   "metadata": {},
   "source": [
    "Now Let's check some outliers and try to remove or clip them"
   ]
  },
  {
   "cell_type": "code",
   "execution_count": 80,
   "metadata": {},
   "outputs": [],
   "source": [
    "Q1 = df['LotFrontage'].quantile(0.25)\n",
    "Q3 = df['LotFrontage'].quantile(0.75)\n",
    "IQR = Q3 - Q1\n",
    "lower_bound = lower_bound = Q1 - 1.5 * IQR\n",
    "upper_bound = Q3 + 1.5 * IQR\n",
    "test_df = df[(df['LotFrontage'] >= lower_bound) & (df['LotFrontage'] <= upper_bound)]  ## removing outliers"
   ]
  },
  {
   "cell_type": "code",
   "execution_count": 81,
   "metadata": {},
   "outputs": [],
   "source": [
    "# evaluate_models(test_df, models)"
   ]
  },
  {
   "cell_type": "code",
   "execution_count": 82,
   "metadata": {},
   "outputs": [
    {
     "data": {
      "text/plain": [
       "(np.float64(110.0), np.float64(30.0))"
      ]
     },
     "execution_count": 82,
     "metadata": {},
     "output_type": "execute_result"
    }
   ],
   "source": [
    "Q1 = old_df['LotFrontage'].quantile(0.25)\n",
    "Q3 = old_df['LotFrontage'].quantile(0.75)\n",
    "IQR = Q3 - Q1\n",
    "lower_bound = Q1 - 1.5 * IQR\n",
    "upper_bound = Q3 + 1.5 * IQR\n",
    "old_df['LotFrontage'] = old_df['LotFrontage'].clip(lower = lower_bound, upper = upper_bound)\n",
    "old_df.LotFrontage.max(), old_df.LotFrontage.min()"
   ]
  },
  {
   "cell_type": "code",
   "execution_count": 83,
   "metadata": {},
   "outputs": [
    {
     "data": {
      "text/plain": [
       "NormalLotFrontage\n",
       "60.0    285\n",
       "70.0    146\n",
       "80.0    137\n",
       "50.0    114\n",
       "69.4    112\n",
       "       ... \n",
       "49.2      2\n",
       "66.6      2\n",
       "82.1      2\n",
       "68.9      1\n",
       "92.9      1\n",
       "Name: count, Length: 181, dtype: int64"
      ]
     },
     "execution_count": 83,
     "metadata": {},
     "output_type": "execute_result"
    }
   ],
   "source": [
    "from sklearn.preprocessing import FunctionTransformer\n",
    "log_LotFrontage = FunctionTransformer(np.log1p).fit_transform(old_df['LotFrontage'])\n",
    "df['looged_LotFrontage'] = log_LotFrontage\n",
    "df.LotFrontage.value_counts()\n",
    "\n",
    "df['NormalLotFrontage'] = old_df['LotFrontage']\n",
    "df.NormalLotFrontage.value_counts()"
   ]
  },
  {
   "cell_type": "code",
   "execution_count": 84,
   "metadata": {},
   "outputs": [],
   "source": [
    "logged_lotFrontage_df = df.drop('NormalLotFrontage', axis = 1)\n",
    "noraml_LotFrontage = df.drop('LotFrontage', axis = 1)"
   ]
  },
  {
   "cell_type": "code",
   "execution_count": 85,
   "metadata": {},
   "outputs": [],
   "source": [
    "# evaluate_models(logged_lotFrontage_df, models)"
   ]
  },
  {
   "cell_type": "code",
   "execution_count": 86,
   "metadata": {},
   "outputs": [],
   "source": [
    "# evaluate_models(noraml_LotFrontage, models)"
   ]
  },
  {
   "cell_type": "markdown",
   "metadata": {},
   "source": [
    "It's looks removing outlier is better option here"
   ]
  },
  {
   "cell_type": "code",
   "execution_count": 87,
   "metadata": {},
   "outputs": [
    {
     "data": {
      "text/plain": [
       "(np.float64(1.9227591782952984), np.float64(-1.732103888746947))"
      ]
     },
     "execution_count": 87,
     "metadata": {},
     "output_type": "execute_result"
    }
   ],
   "source": [
    "Q1 = df['LotFrontage'].quantile(0.25)\n",
    "Q3 = df['LotFrontage'].quantile(0.75)\n",
    "IQR = Q3 - Q1\n",
    "lower_bound = Q1 - 1.5 * IQR\n",
    "upper_bound = Q3 + 1.5 * IQR\n",
    "df = df[(df['LotFrontage'] >= lower_bound) & (df['LotFrontage'] <= upper_bound)]  ## removing outliers\n",
    "df.LotFrontage.max(), df.LotFrontage.min()"
   ]
  },
  {
   "cell_type": "code",
   "execution_count": 88,
   "metadata": {},
   "outputs": [
    {
     "data": {
      "text/plain": [
       "(2673, 148)"
      ]
     },
     "execution_count": 88,
     "metadata": {},
     "output_type": "execute_result"
    }
   ],
   "source": [
    "df.shape"
   ]
  },
  {
   "cell_type": "markdown",
   "metadata": {},
   "source": [
    "So we removed around 300 + rows"
   ]
  },
  {
   "cell_type": "code",
   "execution_count": 89,
   "metadata": {},
   "outputs": [
    {
     "data": {
      "text/plain": [
       "<Axes: xlabel='LotArea', ylabel='SalePrice'>"
      ]
     },
     "execution_count": 89,
     "metadata": {},
     "output_type": "execute_result"
    },
    {
     "data": {
      "image/png": "[encoded data removed]",
      "text/plain": [
       "<Figure size 640x480 with 1 Axes>"
      ]
     },
     "metadata": {},
     "output_type": "display_data"
    }
   ],
   "source": [
    "sns.scatterplot(data= df, x = 'LotArea', y = 'SalePrice')\n"
   ]
  },
  {
   "cell_type": "code",
   "execution_count": 90,
   "metadata": {},
   "outputs": [
    {
     "name": "stdout",
     "output_type": "stream",
     "text": [
      "-3.1420622594706793 7.045917009461567\n"
     ]
    },
    {
     "data": {
      "text/plain": [
       "(2492, 148)"
      ]
     },
     "execution_count": 90,
     "metadata": {},
     "output_type": "execute_result"
    }
   ],
   "source": [
    "Q1 = df['LotArea'].quantile(0.25)\n",
    "Q3 = df['LotArea'].quantile(0.75)\n",
    "IQR = Q3 - Q1\n",
    "lower_bound =  Q1 - IQR * 1.5\n",
    "upper_bound = Q3 + IQR * 1.5\n",
    "\n",
    "## first checking the max and min of LotArea\n",
    "print(df.LotArea.min(), df.LotArea.max())\n",
    "\n",
    "df = df[(df['LotArea'] >= lower_bound) & (df['LotArea'] <= upper_bound)]\n",
    "df.shape"
   ]
  },
  {
   "cell_type": "code",
   "execution_count": 91,
   "metadata": {},
   "outputs": [
    {
     "name": "stdout",
     "output_type": "stream",
     "text": [
      "(2492, 147)\n"
     ]
    },
    {
     "data": {
      "text/html": [
       "<div>\n",
       "<style scoped>\n",
       "    .dataframe tbody tr th:only-of-type {\n",
       "        vertical-align: middle;\n",
       "    }\n",
       "\n",
       "    .dataframe tbody tr th {\n",
       "        vertical-align: top;\n",
       "    }\n",
       "\n",
       "    .dataframe thead th {\n",
       "        text-align: right;\n",
       "    }\n",
       "</style>\n",
       "<table border=\"1\" class=\"dataframe\">\n",
       "  <thead>\n",
       "    <tr style=\"text-align: right;\">\n",
       "      <th></th>\n",
       "      <th>rmse_train</th>\n",
       "      <th>rmse_test</th>\n",
       "      <th>R2_train</th>\n",
       "      <th>R2_test</th>\n",
       "      <th>cross_val_score</th>\n",
       "    </tr>\n",
       "  </thead>\n",
       "  <tbody>\n",
       "    <tr>\n",
       "      <th>Decision Tree</th>\n",
       "      <td>0.000000</td>\n",
       "      <td>21650.122746</td>\n",
       "      <td>1.000000</td>\n",
       "      <td>0.922218</td>\n",
       "      <td>0.918939</td>\n",
       "    </tr>\n",
       "    <tr>\n",
       "      <th>Random Forest</th>\n",
       "      <td>7644.492742</td>\n",
       "      <td>19981.880058</td>\n",
       "      <td>0.989743</td>\n",
       "      <td>0.933743</td>\n",
       "      <td>0.937540</td>\n",
       "    </tr>\n",
       "    <tr>\n",
       "      <th>Gradient Boosting</th>\n",
       "      <td>19465.051451</td>\n",
       "      <td>25929.774793</td>\n",
       "      <td>0.933500</td>\n",
       "      <td>0.888428</td>\n",
       "      <td>0.901259</td>\n",
       "    </tr>\n",
       "  </tbody>\n",
       "</table>\n",
       "</div>"
      ],
      "text/plain": [
       "                     rmse_train     rmse_test  R2_train   R2_test  \\\n",
       "Decision Tree          0.000000  21650.122746  1.000000  0.922218   \n",
       "Random Forest       7644.492742  19981.880058  0.989743  0.933743   \n",
       "Gradient Boosting  19465.051451  25929.774793  0.933500  0.888428   \n",
       "\n",
       "                   cross_val_score  \n",
       "Decision Tree             0.918939  \n",
       "Random Forest             0.937540  \n",
       "Gradient Boosting         0.901259  "
      ]
     },
     "execution_count": 91,
     "metadata": {},
     "output_type": "execute_result"
    }
   ],
   "source": [
    "evaluate_models(df, models)"
   ]
  },
  {
   "cell_type": "code",
   "execution_count": 92,
   "metadata": {},
   "outputs": [
    {
     "data": {
      "text/plain": [
       "<Axes: xlabel='MasVnrArea', ylabel='SalePrice'>"
      ]
     },
     "execution_count": 92,
     "metadata": {},
     "output_type": "execute_result"
    },
    {
     "data": {
      "image/png": "[encoded data removed]",
      "text/plain": [
       "<Figure size 640x480 with 1 Axes>"
      ]
     },
     "metadata": {},
     "output_type": "display_data"
    }
   ],
   "source": [
    "sns.scatterplot(data = df, x = 'MasVnrArea', y  = 'SalePrice')"
   ]
  },
  {
   "cell_type": "markdown",
   "metadata": {},
   "source": [
    "Let's leave this column"
   ]
  },
  {
   "cell_type": "code",
   "execution_count": 93,
   "metadata": {},
   "outputs": [
    {
     "name": "stdout",
     "output_type": "stream",
     "text": [
      "-0.8267369281971036 1.5445975392060505\n"
     ]
    },
    {
     "data": {
      "text/plain": [
       "(2492, 148)"
      ]
     },
     "execution_count": 93,
     "metadata": {},
     "output_type": "execute_result"
    }
   ],
   "source": [
    "Q1 = df['MasVnrArea'].quantile(0.25)\n",
    "Q3 = df['MasVnrArea'].quantile(0.75)\n",
    "IQR = Q3 - Q1\n",
    "lower_bound =  Q1 - IQR * 1.5\n",
    "upper_bound = Q3 + IQR * 1.5\n",
    "\n",
    "## first checking the max and min of LotArea\n",
    "print(df.MasVnrArea.min(), df.MasVnrArea.max())\n",
    "\n",
    "df = df[(df['MasVnrArea'] >= lower_bound) & (df['MasVnrArea'] <= upper_bound)]\n",
    "df.shape"
   ]
  },
  {
   "cell_type": "code",
   "execution_count": 94,
   "metadata": {},
   "outputs": [
    {
     "name": "stdout",
     "output_type": "stream",
     "text": [
      "(2492, 147)\n"
     ]
    },
    {
     "data": {
      "text/html": [
       "<div>\n",
       "<style scoped>\n",
       "    .dataframe tbody tr th:only-of-type {\n",
       "        vertical-align: middle;\n",
       "    }\n",
       "\n",
       "    .dataframe tbody tr th {\n",
       "        vertical-align: top;\n",
       "    }\n",
       "\n",
       "    .dataframe thead th {\n",
       "        text-align: right;\n",
       "    }\n",
       "</style>\n",
       "<table border=\"1\" class=\"dataframe\">\n",
       "  <thead>\n",
       "    <tr style=\"text-align: right;\">\n",
       "      <th></th>\n",
       "      <th>rmse_train</th>\n",
       "      <th>rmse_test</th>\n",
       "      <th>R2_train</th>\n",
       "      <th>R2_test</th>\n",
       "      <th>cross_val_score</th>\n",
       "    </tr>\n",
       "  </thead>\n",
       "  <tbody>\n",
       "    <tr>\n",
       "      <th>Decision Tree</th>\n",
       "      <td>0.000000</td>\n",
       "      <td>23243.719254</td>\n",
       "      <td>1.000000</td>\n",
       "      <td>0.910346</td>\n",
       "      <td>0.910461</td>\n",
       "    </tr>\n",
       "    <tr>\n",
       "      <th>Random Forest</th>\n",
       "      <td>7546.982187</td>\n",
       "      <td>19768.224837</td>\n",
       "      <td>0.990003</td>\n",
       "      <td>0.935152</td>\n",
       "      <td>0.938135</td>\n",
       "    </tr>\n",
       "    <tr>\n",
       "      <th>Gradient Boosting</th>\n",
       "      <td>19465.051451</td>\n",
       "      <td>25914.891779</td>\n",
       "      <td>0.933500</td>\n",
       "      <td>0.888556</td>\n",
       "      <td>0.901453</td>\n",
       "    </tr>\n",
       "  </tbody>\n",
       "</table>\n",
       "</div>"
      ],
      "text/plain": [
       "                     rmse_train     rmse_test  R2_train   R2_test  \\\n",
       "Decision Tree          0.000000  23243.719254  1.000000  0.910346   \n",
       "Random Forest       7546.982187  19768.224837  0.990003  0.935152   \n",
       "Gradient Boosting  19465.051451  25914.891779  0.933500  0.888556   \n",
       "\n",
       "                   cross_val_score  \n",
       "Decision Tree             0.910461  \n",
       "Random Forest             0.938135  \n",
       "Gradient Boosting         0.901453  "
      ]
     },
     "execution_count": 94,
     "metadata": {},
     "output_type": "execute_result"
    }
   ],
   "source": [
    "evaluate_models(df, models)"
   ]
  },
  {
   "cell_type": "markdown",
   "metadata": {},
   "source": [
    "Looks no outliers are there"
   ]
  },
  {
   "cell_type": "markdown",
   "metadata": {},
   "source": [
    "## Last Step (Voting)"
   ]
  },
  {
   "cell_type": "markdown",
   "metadata": {},
   "source": [
    "since our individual models are well generalized so using Voting Classifier for improving the accuracy"
   ]
  },
  {
   "cell_type": "code",
   "execution_count": 103,
   "metadata": {},
   "outputs": [
    {
     "data": {
      "text/plain": [
       "np.float64(0.940191467049333)"
      ]
     },
     "execution_count": 103,
     "metadata": {},
     "output_type": "execute_result"
    }
   ],
   "source": [
    "## Importing Voting Classifier\n",
    "from sklearn.ensemble import VotingRegressor\n",
    "mdl1 = GradientBoostingRegressor()\n",
    "mdl2 = DecisionTreeRegressor(min_impurity_decrease=0.2)\n",
    "mdl3 = RandomForestRegressor()\n",
    "voting_model = VotingRegressor(estimators = [('GBR', mdl1), ('DTR', mdl2), ('RFR', mdl3)], n_jobs = -1)\n",
    "cross_val_score(voting_model, df.drop('SalePrice', axis = 1), df.SalePrice, cv = 5).mean()"
   ]
  },
  {
   "cell_type": "markdown",
   "metadata": {},
   "source": [
    "Clearly accuracy increased little bit but let's now add linear Regression model too and check accuracy"
   ]
  },
  {
   "cell_type": "code",
   "execution_count": 105,
   "metadata": {},
   "outputs": [],
   "source": [
    "## Importing Voting Classifier\n",
    "from sklearn.ensemble import VotingRegressor\n",
    "mdl1 = GradientBoostingRegressor()\n",
    "mdl2 = DecisionTreeRegressor(min_impurity_decrease=0.1)\n",
    "mdl3 = RandomForestRegressor()\n",
    "mdl4 = LinearRegression()\n",
    "# voting_model = VotingRegressor(estimators = [('GBR', mdl1), ('DTR', mdl2), ('RFR', mdl3), ('LR', mdl4)], n_jobs = -1)\n",
    "# cross_val_score(voting_model, df.drop('SalePrice', axis = 1), df.SalePrice, cv = 5).mean()"
   ]
  },
  {
   "cell_type": "markdown",
   "metadata": {},
   "source": [
    "Since Linear Regression was'nt Performing good itself that's why accuracy decreased so not considering this one"
   ]
  },
  {
   "cell_type": "code",
   "execution_count": 106,
   "metadata": {},
   "outputs": [
    {
     "name": "stdout",
     "output_type": "stream",
     "text": [
      "mdl1: 1, mdl2: 1, mdl3: 1\n",
      "\n",
      "0.94192063035\n",
      "mdl1: 1, mdl2: 1, mdl3: 2\n",
      "\n",
      "0.9416775529509384\n",
      "mdl1: 1, mdl2: 1, mdl3: 3\n",
      "\n",
      "0.9420922546987528\n",
      "mdl1: 1, mdl2: 2, mdl3: 1\n",
      "\n",
      "0.9424641580591857\n",
      "mdl1: 1, mdl2: 2, mdl3: 2\n",
      "\n",
      "0.9437618783211794\n",
      "mdl1: 1, mdl2: 2, mdl3: 3\n",
      "\n",
      "0.9427270775003643\n",
      "mdl1: 1, mdl2: 3, mdl3: 1\n",
      "\n",
      "0.9357793001344357\n",
      "mdl1: 1, mdl2: 3, mdl3: 2\n",
      "\n",
      "0.9414697375052631\n",
      "mdl1: 1, mdl2: 3, mdl3: 3\n",
      "\n",
      "0.9444493144222417\n",
      "mdl1: 2, mdl2: 1, mdl3: 1\n",
      "\n",
      "0.9347811488761331\n",
      "mdl1: 2, mdl2: 1, mdl3: 2\n",
      "\n",
      "0.9375559574430868\n",
      "mdl1: 2, mdl2: 1, mdl3: 3\n",
      "\n",
      "0.9381709969730926\n",
      "mdl1: 2, mdl2: 2, mdl3: 1\n",
      "\n",
      "0.9385408693402703\n",
      "mdl1: 2, mdl2: 2, mdl3: 2\n",
      "\n",
      "0.9406564658456122\n",
      "mdl1: 2, mdl2: 2, mdl3: 3\n",
      "\n",
      "0.9408263491028681\n",
      "mdl1: 2, mdl2: 3, mdl3: 1\n",
      "\n",
      "0.9400572939797035\n",
      "mdl1: 2, mdl2: 3, mdl3: 2\n",
      "\n",
      "0.9413301813154378\n",
      "mdl1: 2, mdl2: 3, mdl3: 3\n",
      "\n",
      "0.9435939114219984\n",
      "mdl1: 3, mdl2: 1, mdl3: 1\n",
      "\n",
      "0.9298134788936967\n",
      "mdl1: 3, mdl2: 1, mdl3: 2\n",
      "\n",
      "0.933335449399095\n",
      "mdl1: 3, mdl2: 1, mdl3: 3\n",
      "\n",
      "0.9351900910899239\n",
      "mdl1: 3, mdl2: 2, mdl3: 1\n",
      "\n",
      "0.9364310533595205\n",
      "mdl1: 3, mdl2: 2, mdl3: 2\n",
      "\n",
      "0.9356212767083351\n",
      "mdl1: 3, mdl2: 2, mdl3: 3\n",
      "\n",
      "0.9388073749869358\n",
      "mdl1: 3, mdl2: 3, mdl3: 1\n",
      "\n",
      "0.9377215413111406\n",
      "mdl1: 3, mdl2: 3, mdl3: 2\n",
      "\n",
      "0.9398805646913024\n",
      "mdl1: 3, mdl2: 3, mdl3: 3\n",
      "\n",
      "0.9414444091281347\n"
     ]
    }
   ],
   "source": [
    "## Assigning weights to my model and check accuracy\n",
    "for i in range(1,4):\n",
    "    for j in range(1,4):\n",
    "        for k in range(1, 4):\n",
    "            voting_model = VotingRegressor(estimators = [('GBR', mdl1), ('DTR', mdl2), ('RFR', mdl3)], weights = [i, j, k], n_jobs = -1)\n",
    "            print(f'mdl1: {i}, mdl2: {j}, mdl3: {k}\\n')\n",
    "            print(cross_val_score(voting_model, df.drop('SalePrice', axis = 1), df.SalePrice, cv = 5).mean())"
   ]
  },
  {
   "cell_type": "markdown",
   "metadata": {},
   "source": [
    "Highest accuracy i have acheived for <b>mdl1: 1; mdl2: 2; mdl3: 3</b>"
   ]
  },
  {
   "cell_type": "code",
   "execution_count": 110,
   "metadata": {},
   "outputs": [
    {
     "data": {
      "text/plain": [
       "np.float64(0.9439877190553266)"
      ]
     },
     "execution_count": 110,
     "metadata": {},
     "output_type": "execute_result"
    }
   ],
   "source": [
    "## assigning these weights to the model\n",
    "voting_model = VotingRegressor(estimators = [('GBR', mdl1), ('DTR', mdl2), ('RFR', mdl3)], weights = [1, 2,3], n_jobs = -1)\n",
    "cross_val_score(voting_model, df.drop('SalePrice', axis = 1), df.SalePrice, cv = 5).mean()"
   ]
  },
  {
   "cell_type": "markdown",
   "metadata": {},
   "source": [
    "<h1 style = 'color:green; text-align:center; font-weight: bold'>Project End 🎇🎉</h1>"
   ]
  }
 ],
 "metadata": {
  "kernelspec": {
   "display_name": "Python 3",
   "language": "python",
   "name": "python3"
  },
  "language_info": {
   "codemirror_mode": {
    "name": "ipython",
    "version": 3
   },
   "file_extension": ".py",
   "mimetype": "text/x-python",
   "name": "python",
   "nbconvert_exporter": "python",
   "pygments_lexer": "ipython3",
   "version": "3.13.1"
  }
 },
 "nbformat": 4,
 "nbformat_minor": 2
}
